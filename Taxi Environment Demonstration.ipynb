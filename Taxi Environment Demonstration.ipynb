{
 "nbformat": 4,
 "nbformat_minor": 0,
 "metadata": {
  "kernelspec": {
   "display_name": "Python 3",
   "language": "python",
   "name": "python3"
  },
  "language_info": {
   "codemirror_mode": {
    "name": "ipython",
    "version": 3
   },
   "file_extension": ".py",
   "mimetype": "text/x-python",
   "name": "python",
   "nbconvert_exporter": "python",
   "pygments_lexer": "ipython3",
   "version": "3.6.5"
  },
  "colab": {
   "name": "Taxi Environment Demonstration.ipynb",
   "provenance": [],
   "collapsed_sections": []
  }
 },
 "cells": [
  {
   "cell_type": "markdown",
   "metadata": {
    "id": "9x5FMGOESs8Y",
    "colab_type": "text"
   },
   "source": [
    "## Variations on the Taxi-Grid Enviroment"
   ]
  },
  {
   "cell_type": "markdown",
   "metadata": {
    "id": "sIKdvT6vSs8Z",
    "colab_type": "text"
   },
   "source": [
    "### Motivation"
   ]
  },
  {
   "cell_type": "markdown",
   "metadata": {
    "id": "j4CIXTWLSs8a",
    "colab_type": "text"
   },
   "source": [
    "Our project focuses on variations on the taxi gym environment (https://gym.openai.com/envs/Taxi-v3/), which is a basic \"grid-world\" enviroment used for research in artificial intelligence and reinforcement learning."
   ]
  },
  {
   "cell_type": "code",
   "metadata": {
    "id": "OqJ8uXotSs8b",
    "colab_type": "code",
    "colab": {
     "base_uri": "https://localhost:8080/",
     "height": 153
    },
    "outputId": "59356029-830b-45a4-d956-fa3ec931ce83"
   },
   "source": [
    "import gym\n",
    "\n",
    "env = gym.make(\"Taxi-v3\").env\n",
    "\n",
    "env.reset ()\n",
    "env.render()"
   ],
   "execution_count": 1,
   "outputs": [
    {
     "output_type": "stream",
     "text": [
      "+---------+\n",
      "|\u001B[34;1mR\u001B[0m: | : :\u001B[35mG\u001B[0m|\n",
      "| : | : : |\n",
      "| : : : : |\n",
      "| | : | : |\n",
      "|\u001B[43mY\u001B[0m| : |B: |\n",
      "+---------+\n",
      "\n"
     ],
     "name": "stdout"
    }
   ]
  },
  {
   "cell_type": "markdown",
   "metadata": {
    "id": "YGvTYwNhSs8h",
    "colab_type": "text"
   },
   "source": [
    "This is original taxi grid enviroment, which is available as part of the OpenAI gym module. The enviroment models a taxi, which moves within the gridworld enviroment with the goal of picking up a passenger and bringing her to her destination.\n",
    "\n",
    "Our modifications on the original enviroment were created with two main\n",
    "goals: first, the original taxi grid enviroment is a single agent enviroment. We were interested in multi-agent reinforcement learning, so we created a variation on the enviroment with multiple taxis. Second, by adding a fuel constraint modification, we were able to test whether agents would be able consider the long term fuel constraint. Here, our goal was to make the enviroment more flexible and dynamic by adding a variation with fuel constraints, the ability to use custom grids, and the ability to have an arbitrary number of passengers."
   ]
  },
  {
   "cell_type": "markdown",
   "metadata": {
    "id": "yEhPGfizSs8i",
    "colab_type": "text"
   },
   "source": [
    "### Installation"
   ]
  },
  {
   "cell_type": "markdown",
   "metadata": {
    "id": "NBoscLwESs8i",
    "colab_type": "text"
   },
   "source": [
    "To work with our custom enviroments, the first thing that we want to do is to install them. As the enviroments are packaged together into a module called \"multitaxienv\" which is to be found on the github, it is easy to install all of the modules at once."
   ]
  },
  {
   "cell_type": "code",
   "metadata": {
    "id": "QoHB9ZC5Ss8j",
    "colab_type": "code",
    "colab": {
     "base_uri": "https://localhost:8080/",
     "height": 289
    },
    "outputId": "8cba1882-27d6-49e8-a0d1-4fc20c61c4d0"
   },
   "source": [
    "!pip install git+https://github.com/sarah-keren/MutliTaxiEnv.git --upgrade"
   ],
   "execution_count": 2,
   "outputs": [
    {
     "output_type": "stream",
     "text": [
      "Collecting git+https://github.com/sarah-keren/MutliTaxiEnv.git\n",
      "  Cloning https://github.com/sarah-keren/MutliTaxiEnv.git to /tmp/pip-req-build-r3uofinr\n",
      "  Running command git clone -q https://github.com/sarah-keren/MutliTaxiEnv.git /tmp/pip-req-build-r3uofinr\n",
      "Requirement already satisfied, skipping upgrade: numpy in /usr/local/lib/python3.6/dist-packages (from MultiTaxiEnv==0.2) (1.18.5)\n",
      "Requirement already satisfied, skipping upgrade: gym in /usr/local/lib/python3.6/dist-packages (from MultiTaxiEnv==0.2) (0.17.2)\n",
      "Requirement already satisfied, skipping upgrade: scipy in /usr/local/lib/python3.6/dist-packages (from gym->MultiTaxiEnv==0.2) (1.4.1)\n",
      "Requirement already satisfied, skipping upgrade: pyglet<=1.5.0,>=1.4.0 in /usr/local/lib/python3.6/dist-packages (from gym->MultiTaxiEnv==0.2) (1.5.0)\n",
      "Requirement already satisfied, skipping upgrade: cloudpickle<1.4.0,>=1.2.0 in /usr/local/lib/python3.6/dist-packages (from gym->MultiTaxiEnv==0.2) (1.3.0)\n",
      "Requirement already satisfied, skipping upgrade: future in /usr/local/lib/python3.6/dist-packages (from pyglet<=1.5.0,>=1.4.0->gym->MultiTaxiEnv==0.2) (0.16.0)\n",
      "Building wheels for collected packages: MultiTaxiEnv\n",
      "  Building wheel for MultiTaxiEnv (setup.py) ... \u001B[?25l\u001B[?25hdone\n",
      "  Created wheel for MultiTaxiEnv: filename=MultiTaxiEnv-0.2-cp36-none-any.whl size=11042 sha256=4276509999855777277fc12b9947e5e0959f932039121f2ca297a1ffff03d204\n",
      "  Stored in directory: /tmp/pip-ephem-wheel-cache-1u1ngwdm/wheels/a7/8b/8f/2c7828f791585f08f092f39fb14023ccf64d14a1a3d68143ef\n",
      "Successfully built MultiTaxiEnv\n",
      "Installing collected packages: MultiTaxiEnv\n",
      "Successfully installed MultiTaxiEnv-0.2\n"
     ],
     "name": "stdout"
    }
   ]
  },
  {
   "cell_type": "markdown",
   "metadata": {
    "id": "EFeZ_l6mSs8m",
    "colab_type": "text"
   },
   "source": [
    "Now, once we have installed the module, we are able to import the three enviroments, OneTaxiFuelEnv, which is the single taxi with fuel enviroment, MultiTaxiEnv, which is the multiple taxi without fuel enviroment, and MultiTaxiFuelEnv, which is the multiple taxi with fuel enviroment."
   ]
  },
  {
   "cell_type": "code",
   "metadata": {
    "id": "1CeMVNewSs8n",
    "colab_type": "code",
    "colab": {}
   },
   "source": [
    "from multitaxienv.onetaxifuel_env import OneTaxiFuelEnv\n",
    "from multitaxienv.multitaxi_env import MultiTaxiEnv\n",
    "from multitaxienv.multitaxifuel_env import MultiTaxiFuelEnv"
   ],
   "execution_count": 3,
   "outputs": []
  },
  {
   "cell_type": "markdown",
   "metadata": {
    "id": "KP1M8z5mSs8q",
    "colab_type": "text"
   },
   "source": [
    "### Single Taxi With Fuel"
   ]
  },
  {
   "cell_type": "markdown",
   "metadata": {
    "id": "-HPwsy2qSs8r",
    "colab_type": "text"
   },
   "source": [
    "First, we will demonstrate the most basic enviroment - one taxi with fuel."
   ]
  },
  {
   "cell_type": "code",
   "metadata": {
    "scrolled": true,
    "id": "fkuDJVA2Ss8r",
    "colab_type": "code",
    "colab": {
     "base_uri": "https://localhost:8080/",
     "height": 170
    },
    "outputId": "c968d05a-7425-4459-d280-51d42b7900bf"
   },
   "source": [
    "env = OneTaxiFuelEnv()\n",
    "env.reset()\n",
    "env.s = 1022\n",
    "env.render()"
   ],
   "execution_count": 4,
   "outputs": [
    {
     "output_type": "stream",
     "text": [
      "+---------+\n",
      "|\u001B[35mX\u001B[0m: |F: :\u001B[43mX\u001B[0m|\n",
      "| : | : : |\n",
      "| : : : : |\n",
      "| | : | : |\n",
      "|X| : |\u001B[34;1mX\u001B[0m: |\n",
      "+---------+\n",
      "Fuel: 10\n",
      "\n"
     ],
     "name": "stdout"
    }
   ]
  },
  {
   "cell_type": "markdown",
   "metadata": {
    "id": "aBV-75fhSs8v",
    "colab_type": "text"
   },
   "source": [
    "TaxiFuelEnv is an enviroment where there is one taxi. The taxi is represented by the yellow highlighted block. The objective of the taxi in this enviroment is to move the passenger from the blue X to the magenta X. The action space of the taxi is (0,1,2,3,4,5,6), where 0,1,2,3 are move south, north, east, west respectively, 4 is pickup passenger, 5 is dropoff passenger, and 6 is refuel."
   ]
  },
  {
   "cell_type": "code",
   "metadata": {
    "id": "E15ZVBhuSs8v",
    "colab_type": "code",
    "colab": {
     "base_uri": "https://localhost:8080/",
     "height": 34
    },
    "outputId": "3abb2c99-ebc3-444f-a401-ef862787018d"
   },
   "source": [
    "state, reward, done, _ = env.step(6)\n",
    "print(\"The next state is: \" + str(state) + \", the reward for the last action is: \" + str(reward) + \", and the episode is \"+ {True: \"\", False: \"not\"}[done]  + \" done.\")"
   ],
   "execution_count": 5,
   "outputs": [
    {
     "output_type": "stream",
     "text": [
      "The next state is: 1022, the reward for the last action is: -10, and the episode is not done.\n"
     ],
     "name": "stdout"
    }
   ]
  },
  {
   "cell_type": "markdown",
   "metadata": {
    "id": "BSeB3yZcSs8z",
    "colab_type": "text"
   },
   "source": [
    "To preform an action, we use the step function. This returns a tuple which includes the next state, the reward, whetheer the episode has ended or not, and debugging info which we don't need to worry about for our purposes. In this environment, the episode ends when the passenger is dropped off successfully. The reward for each step is -1, unless there is an illegal pickup, dropoff, or refuel whch yields reward of -10, and a successful dropoff gives reward +20 (all these values are configurable in config.py). Taxis can only dropoff passengers at their final destination and nowhere else.\n",
    "\n",
    "Now, we will navigate to the fuel station by moving west twice."
   ]
  },
  {
   "cell_type": "code",
   "metadata": {
    "id": "UDilHzQFSs8z",
    "colab_type": "code",
    "colab": {
     "base_uri": "https://localhost:8080/",
     "height": 323
    },
    "outputId": "67dcb942-3c88-46ba-ec15-415ff5383a83"
   },
   "source": [
    "env.step(3)\n",
    "env.render()\n",
    "env.step(3)\n",
    "env.render()"
   ],
   "execution_count": 6,
   "outputs": [
    {
     "output_type": "stream",
     "text": [
      "+---------+\n",
      "|\u001B[35mX\u001B[0m: |F:\u001B[43m \u001B[0m:X|\n",
      "| : | : : |\n",
      "| : : : : |\n",
      "| | : | : |\n",
      "|X| : |\u001B[34;1mX\u001B[0m: |\n",
      "+---------+\n",
      "Fuel: 9\n",
      "  (West)\n",
      "+---------+\n",
      "|\u001B[35mX\u001B[0m: |\u001B[43mF\u001B[0m: :X|\n",
      "| : | : : |\n",
      "| : : : : |\n",
      "| | : | : |\n",
      "|X| : |\u001B[34;1mX\u001B[0m: |\n",
      "+---------+\n",
      "Fuel: 8\n",
      "  (West)\n"
     ],
     "name": "stdout"
    }
   ]
  },
  {
   "cell_type": "markdown",
   "metadata": {
    "id": "IuYHLwbFSs82",
    "colab_type": "text"
   },
   "source": [
    "Here, note that since we have moved two steps, we have consumed two units of fuel. There is a large penalty for moving when the taxi does not have fuel. We will now refuel."
   ]
  },
  {
   "cell_type": "code",
   "metadata": {
    "scrolled": true,
    "id": "vojOxmSmSs83",
    "colab_type": "code",
    "colab": {
     "base_uri": "https://localhost:8080/",
     "height": 170
    },
    "outputId": "57373482-f79c-4d37-fbfb-d0ae4c569590"
   },
   "source": [
    "state, reward, done, _ = env.step(6)\n",
    "env.render()"
   ],
   "execution_count": 7,
   "outputs": [
    {
     "output_type": "stream",
     "text": [
      "+---------+\n",
      "|\u001B[35mX\u001B[0m: |\u001B[43mF\u001B[0m: :X|\n",
      "| : | : : |\n",
      "| : : : : |\n",
      "| | : | : |\n",
      "|X| : |\u001B[34;1mX\u001B[0m: |\n",
      "+---------+\n",
      "Fuel: 8\n",
      "  (Refill)\n"
     ],
     "name": "stdout"
    }
   ]
  },
  {
   "cell_type": "markdown",
   "metadata": {
    "id": "uI60U2tuSs86",
    "colab_type": "text"
   },
   "source": [
    "Here, since we have refuelled, we are back at full. Another thing to note is that the state of the environment is encoded using a single number that represents the state. However, sometimes it may be useful to decode what that number actually means (for example, when using deep-Q learning). We can do that using the decode function."
   ]
  },
  {
   "cell_type": "code",
   "metadata": {
    "id": "QBREn5TBSs87",
    "colab_type": "code",
    "colab": {
     "base_uri": "https://localhost:8080/",
     "height": 68
    },
    "outputId": "78d1f74d-b1ba-409a-9d70-05e7ea140a92"
   },
   "source": [
    "x, y, pass_loc, pass_dest, fuel = list(env.decode(state))\n",
    "print(\"The coordinates of the taxi are currently: \" + \"(\" + str(x) + \",\" + str(y) +\")\")\n",
    "print(\"The index of the passenger location is: \" + str(pass_loc) + \", while the index of the passenger destination is: \" + str(pass_dest))\n",
    "print(\"Currently, the fuel level of the taxi is: \" + str(fuel))"
   ],
   "execution_count": 8,
   "outputs": [
    {
     "output_type": "stream",
     "text": [
      "The coordinates of the taxi are currently: (0,2)\n",
      "The index of the passenger location is: 3, while the index of the passenger destination is: 0\n",
      "Currently, the fuel level of the taxi is: 8\n"
     ],
     "name": "stdout"
    }
   ]
  },
  {
   "cell_type": "markdown",
   "metadata": {
    "id": "AClb59v6Ss8-",
    "colab_type": "text"
   },
   "source": [
    "You can also input your own map as a list of strings and specify the maximum fuel. The map must be formatted in the same way as above, with '+'at the corners and '-', '|' specifying the boundaries. You can have as many destination and fuel stations as you want!"
   ]
  },
  {
   "cell_type": "code",
   "metadata": {
    "id": "rWBVp4TQSs8-",
    "colab_type": "code",
    "colab": {}
   },
   "source": [
    "custom_map = [\n",
    "    '+---------------+',\n",
    "    '| : :X| :F: : : |',\n",
    "    '|X: : | : | :X| |',\n",
    "    '| : : : : : : | |',\n",
    "    '| :X:F| :X| : :X|',\n",
    "    '+---------------+',\n",
    "]"
   ],
   "execution_count": 9,
   "outputs": []
  },
  {
   "cell_type": "code",
   "metadata": {
    "scrolled": true,
    "id": "3DwdpeQ7Ss9B",
    "colab_type": "code",
    "colab": {
     "base_uri": "https://localhost:8080/",
     "height": 153
    },
    "outputId": "106b3dcc-5d5a-43bc-ec7f-e45a475c66f1"
   },
   "source": [
    "env = OneTaxiFuelEnv(max_fuel=6, map=custom_map)\n",
    "env.reset()\n",
    "env.render()"
   ],
   "execution_count": 10,
   "outputs": [
    {
     "output_type": "stream",
     "text": [
      "+---------------+\n",
      "| : :X| :F: : : |\n",
      "|X: : | : | :\u001B[35mX\u001B[0m| |\n",
      "| : : : : : : | |\n",
      "| :\u001B[34;1mX\u001B[0m:F|\u001B[43m \u001B[0m:X| : :X|\n",
      "+---------------+\n",
      "Fuel: 6\n",
      "\n"
     ],
     "name": "stdout"
    }
   ]
  },
  {
   "cell_type": "markdown",
   "metadata": {
    "id": "h1vvCg8JSs9E",
    "colab_type": "text"
   },
   "source": [
    "This concludes the demonstration for the single taxi with fuel environment."
   ]
  },
  {
   "cell_type": "markdown",
   "metadata": {
    "id": "-X5dZoh8Ss9F",
    "colab_type": "text"
   },
   "source": [
    "### Multiple taxis without fuel"
   ]
  },
  {
   "cell_type": "markdown",
   "metadata": {
    "id": "Jj4vvFKJSs9F",
    "colab_type": "text"
   },
   "source": [
    "This environment supports having multiple taxis and multiple passengers which you can specify when initializing. The default initialization is two taxis and one passenger. The goal is to deliver all passengers to their destinations. Each taxi can only carry one passenger at a time, but can dropoff passengers anywhere."
   ]
  },
  {
   "cell_type": "code",
   "metadata": {
    "id": "9M5GL4kSSs9G",
    "colab_type": "code",
    "colab": {
     "base_uri": "https://localhost:8080/",
     "height": 221
    },
    "outputId": "e9b40e94-6c27-4a24-8929-44764c2f0853"
   },
   "source": [
    "env = MultiTaxiEnv(num_taxis=3, num_passengers=2)\n",
    "env.reset()\n",
    "env.state = [[[2, 2], [0, 1], [2, 1]], [[4, 0], [0, 0]], [[0, 0], [4, 3]], [0, 0]]\n",
    "env.render()"
   ],
   "execution_count": 11,
   "outputs": [
    {
     "output_type": "stream",
     "text": [
      "+---------+\n",
      "|\u001B[35m\u001B[34;1mX\u001B[0m\u001B[0m:\u001B[41m_\u001B[0m| : :X|\n",
      "| : | : : |\n",
      "| :\u001B[47m_\u001B[0m:\u001B[43m_\u001B[0m: : |\n",
      "| | : | : |\n",
      "|\u001B[34;1mX\u001B[0m| : |\u001B[35mX\u001B[0m: |\n",
      "+---------+\n",
      "Taxi1: Location: (2,2)\n",
      "Taxi2: Location: (0,1)\n",
      "Taxi3: Location: (2,1)\n",
      "Passenger1: Location: (4, 0), Destination: (0, 0)\n",
      "Passenger2: Location: (0, 0), Destination: (4, 3)\n"
     ],
     "name": "stdout"
    }
   ]
  },
  {
   "cell_type": "markdown",
   "metadata": {
    "id": "aqaOGQZ8Ss9J",
    "colab_type": "text"
   },
   "source": [
    "Each state is recorded as a list of lists:\n",
    "1. a list of locations of each taxi, formatted [row, col]\n",
    "2. a list of passenger starting locations as coordinates\n",
    "3. a list of passenger destinations as coordinates\n",
    "4. a list of current passenger locations as integers, 0 means not picked up, -1 means reached destination, and positive number specifies which taxi they are in\n",
    "\n",
    "The i'th observation in each of the relevant passenger lists correspond to the same passenger.\n",
    "\n"
   ]
  },
  {
   "cell_type": "code",
   "metadata": {
    "id": "D8vDwetcSs9J",
    "colab_type": "code",
    "colab": {
     "base_uri": "https://localhost:8080/",
     "height": 34
    },
    "outputId": "e9b5c74b-c2e6-4a16-cca7-a2959a520077"
   },
   "source": [
    "print(env.state)"
   ],
   "execution_count": 12,
   "outputs": [
    {
     "output_type": "stream",
     "text": [
      "[[[2, 2], [0, 1], [2, 1]], [[4, 0], [0, 0]], [[0, 0], [4, 3]], [0, 0]]\n"
     ],
     "name": "stdout"
    }
   ]
  },
  {
   "cell_type": "markdown",
   "metadata": {
    "id": "bqFIFoUDSs9M",
    "colab_type": "text"
   },
   "source": [
    "Actions are inputted as list of actions corresponding to each taxi. Each taxi has the same actions as in the above environment with only one taxi except for refueling. Thus the action space of the taxi is (0,1,2,3,4,5,6), where 0,1,2,3 are move south, north, east, west respecitvely, 4 is pickup passenger, 5 is dropoff passenger, and 6 is standby.\n",
    "\n",
    "Let's move taxis 1 and 3 south, and taxi 2 west."
   ]
  },
  {
   "cell_type": "code",
   "metadata": {
    "id": "Sb8BBBJzSs9M",
    "colab_type": "code",
    "colab": {
     "base_uri": "https://localhost:8080/",
     "height": 255
    },
    "outputId": "1785eb37-f3f1-421e-8135-366188c3e256"
   },
   "source": [
    "state, reward, done, _ = env.step([0,3,0])\n",
    "print(\"Now the reward is given as the reward for each individual taxi: \" + str(reward))\n",
    "\n",
    "env.render()"
   ],
   "execution_count": 13,
   "outputs": [
    {
     "output_type": "stream",
     "text": [
      "Now the reward is given as the reward for each individual taxi: [-1, -1, -1]\n",
      "+---------+\n",
      "|\u001B[35m\u001B[41m\u001B[34;1mX\u001B[0m\u001B[0m\u001B[0m: | : :X|\n",
      "| : | : : |\n",
      "| : : : : |\n",
      "| |\u001B[47m_\u001B[0m:\u001B[43m_\u001B[0m| : |\n",
      "|\u001B[34;1mX\u001B[0m| : |\u001B[35mX\u001B[0m: |\n",
      "+---------+\n",
      "  (South ,West ,South)\n",
      "Taxi1: Location: (3,2)\n",
      "Taxi2: Location: (0,0)\n",
      "Taxi3: Location: (3,1)\n",
      "Passenger1: Location: (4, 0), Destination: (0, 0)\n",
      "Passenger2: Location: (0, 0), Destination: (4, 3)\n"
     ],
     "name": "stdout"
    }
   ]
  },
  {
   "cell_type": "markdown",
   "metadata": {
    "id": "aEFL53vjSs9P",
    "colab_type": "text"
   },
   "source": [
    "To demonstrate the ability to dropoff passengers anywhere, we will pickup passenger 2 with taxi 2 while telling other taxis to dropoff. Then we will move taxi 2 south twice and dropoff."
   ]
  },
  {
   "cell_type": "code",
   "metadata": {
    "id": "zEEaU4NYSs9P",
    "colab_type": "code",
    "colab": {
     "base_uri": "https://localhost:8080/",
     "height": 901
    },
    "outputId": "7bbd6906-84e9-41aa-c5c9-12e1236b91ab"
   },
   "source": [
    "actions = [[5,4,5],[5,0,5],[5,0,5],[5,5,5]]\n",
    "for action in actions:\n",
    "    env.step(action)\n",
    "    env.render()"
   ],
   "execution_count": 14,
   "outputs": [
    {
     "output_type": "stream",
     "text": [
      "+---------+\n",
      "|\u001B[35m\u001B[41;1mX\u001B[0m\u001B[0m: | : :X|\n",
      "| : | : : |\n",
      "| : : : : |\n",
      "| |\u001B[47m_\u001B[0m:\u001B[43m_\u001B[0m| : |\n",
      "|\u001B[34;1mX\u001B[0m| : |\u001B[35mX\u001B[0m: |\n",
      "+---------+\n",
      "  (Dropoff ,Pickup ,Dropoff)\n",
      "Taxi1: Location: (3,2)\n",
      "Taxi2: Location: (0,0)\n",
      "Taxi3: Location: (3,1)\n",
      "Passenger1: Location: (4, 0), Destination: (0, 0)\n",
      "Passenger2: Location: Taxi2, Destination: (4, 3)\n",
      "+---------+\n",
      "|\u001B[35mX\u001B[0m: | : :X|\n",
      "|\u001B[41;1m \u001B[0m: | : : |\n",
      "| : : : : |\n",
      "| |\u001B[47m_\u001B[0m:\u001B[43m_\u001B[0m| : |\n",
      "|\u001B[34;1mX\u001B[0m| : |\u001B[35mX\u001B[0m: |\n",
      "+---------+\n",
      "  (Dropoff ,South ,Dropoff)\n",
      "Taxi1: Location: (3,2)\n",
      "Taxi2: Location: (1,0)\n",
      "Taxi3: Location: (3,1)\n",
      "Passenger1: Location: (4, 0), Destination: (0, 0)\n",
      "Passenger2: Location: Taxi2, Destination: (4, 3)\n",
      "+---------+\n",
      "|\u001B[35mX\u001B[0m: | : :X|\n",
      "| : | : : |\n",
      "|\u001B[41;1m \u001B[0m: : : : |\n",
      "| |\u001B[47m_\u001B[0m:\u001B[43m_\u001B[0m| : |\n",
      "|\u001B[34;1mX\u001B[0m| : |\u001B[35mX\u001B[0m: |\n",
      "+---------+\n",
      "  (Dropoff ,South ,Dropoff)\n",
      "Taxi1: Location: (3,2)\n",
      "Taxi2: Location: (2,0)\n",
      "Taxi3: Location: (3,1)\n",
      "Passenger1: Location: (4, 0), Destination: (0, 0)\n",
      "Passenger2: Location: Taxi2, Destination: (4, 3)\n",
      "+---------+\n",
      "|\u001B[35mX\u001B[0m: | : :X|\n",
      "| : | : : |\n",
      "|\u001B[41m\u001B[34;1m \u001B[0m\u001B[0m: : : : |\n",
      "| |\u001B[47m_\u001B[0m:\u001B[43m_\u001B[0m| : |\n",
      "|\u001B[34;1mX\u001B[0m| : |\u001B[35mX\u001B[0m: |\n",
      "+---------+\n",
      "  (Dropoff ,Dropoff ,Dropoff)\n",
      "Taxi1: Location: (3,2)\n",
      "Taxi2: Location: (2,0)\n",
      "Taxi3: Location: (3,1)\n",
      "Passenger1: Location: (4, 0), Destination: (0, 0)\n",
      "Passenger2: Location: (2, 0), Destination: (4, 3)\n"
     ],
     "name": "stdout"
    }
   ]
  },
  {
   "cell_type": "markdown",
   "metadata": {
    "id": "AGhJdAGpSs9S",
    "colab_type": "text"
   },
   "source": [
    "We can see that passenger 2's location was taxi 2, and at the end they are at the new location (2,0). Now let's  pick them up with taxi 3."
   ]
  },
  {
   "cell_type": "code",
   "metadata": {
    "id": "fyF9KOZWSs9T",
    "colab_type": "code",
    "colab": {
     "base_uri": "https://localhost:8080/",
     "height": 901
    },
    "outputId": "6437b2f7-824a-458b-9136-64610b888d2f"
   },
   "source": [
    "actions = [[5,5,1],[5,5,3],[5,5,4],[5,5,2]]\n",
    "for action in actions:\n",
    "    env.step(action)\n",
    "    env.render()"
   ],
   "execution_count": 15,
   "outputs": [
    {
     "output_type": "stream",
     "text": [
      "+---------+\n",
      "|\u001B[35mX\u001B[0m: | : :X|\n",
      "| : | : : |\n",
      "|\u001B[41m\u001B[34;1m \u001B[0m\u001B[0m:\u001B[47m_\u001B[0m: : : |\n",
      "| | :\u001B[43m_\u001B[0m| : |\n",
      "|\u001B[34;1mX\u001B[0m| : |\u001B[35mX\u001B[0m: |\n",
      "+---------+\n",
      "  (Dropoff ,Dropoff ,North)\n",
      "Taxi1: Location: (3,2)\n",
      "Taxi2: Location: (2,0)\n",
      "Taxi3: Location: (2,1)\n",
      "Passenger1: Location: (4, 0), Destination: (0, 0)\n",
      "Passenger2: Location: (2, 0), Destination: (4, 3)\n",
      "+---------+\n",
      "|\u001B[35mX\u001B[0m: | : :X|\n",
      "| : | : : |\n",
      "|\u001B[47m\u001B[41m\u001B[34;1m \u001B[0m\u001B[0m\u001B[0m: : : : |\n",
      "| | :\u001B[43m_\u001B[0m| : |\n",
      "|\u001B[34;1mX\u001B[0m| : |\u001B[35mX\u001B[0m: |\n",
      "+---------+\n",
      "  (Dropoff ,Dropoff ,West)\n",
      "Taxi1: Location: (3,2)\n",
      "Taxi2: Location: (2,0)\n",
      "Taxi3: Location: (2,0)\n",
      "Passenger1: Location: (4, 0), Destination: (0, 0)\n",
      "Passenger2: Location: (2, 0), Destination: (4, 3)\n",
      "+---------+\n",
      "|\u001B[35mX\u001B[0m: | : :X|\n",
      "| : | : : |\n",
      "|\u001B[41m\u001B[47;1m \u001B[0m\u001B[0m: : : : |\n",
      "| | :\u001B[43m_\u001B[0m| : |\n",
      "|\u001B[34;1mX\u001B[0m| : |\u001B[35mX\u001B[0m: |\n",
      "+---------+\n",
      "  (Dropoff ,Dropoff ,Pickup)\n",
      "Taxi1: Location: (3,2)\n",
      "Taxi2: Location: (2,0)\n",
      "Taxi3: Location: (2,0)\n",
      "Passenger1: Location: (4, 0), Destination: (0, 0)\n",
      "Passenger2: Location: Taxi3, Destination: (4, 3)\n",
      "+---------+\n",
      "|\u001B[35mX\u001B[0m: | : :X|\n",
      "| : | : : |\n",
      "|\u001B[41m_\u001B[0m:\u001B[47;1m \u001B[0m: : : |\n",
      "| | :\u001B[43m_\u001B[0m| : |\n",
      "|\u001B[34;1mX\u001B[0m| : |\u001B[35mX\u001B[0m: |\n",
      "+---------+\n",
      "  (Dropoff ,Dropoff ,East)\n",
      "Taxi1: Location: (3,2)\n",
      "Taxi2: Location: (2,0)\n",
      "Taxi3: Location: (2,1)\n",
      "Passenger1: Location: (4, 0), Destination: (0, 0)\n",
      "Passenger2: Location: Taxi3, Destination: (4, 3)\n"
     ],
     "name": "stdout"
    }
   ]
  },
  {
   "cell_type": "markdown",
   "metadata": {
    "id": "Al-SIkyeSs9V",
    "colab_type": "text"
   },
   "source": [
    "Now taxi 3 has picked up passenger 2 and can transport them around. This simple example illustrates this new function that wasn't available in the single taxi environment where the taxi could only dropoff at the destination.\n",
    "\n",
    "We can also  choose to input our own custom map as well."
   ]
  },
  {
   "cell_type": "code",
   "metadata": {
    "id": "geKMxsFLSs9W",
    "colab_type": "code",
    "colab": {}
   },
   "source": [
    "custom_map = [\n",
    "    '+---------------+',\n",
    "    '| : :X| : : : : |',\n",
    "    '|X: : | : | :X| |',\n",
    "    '| : : : : : : | |',\n",
    "    '| :X: | :X| : :X|',\n",
    "    '+---------------+',\n",
    "]"
   ],
   "execution_count": 16,
   "outputs": []
  },
  {
   "cell_type": "code",
   "metadata": {
    "id": "3aZXR86TSs9Y",
    "colab_type": "code",
    "colab": {
     "base_uri": "https://localhost:8080/",
     "height": 170
    },
    "outputId": "fc869250-957d-45e6-e039-7a3ef4115468"
   },
   "source": [
    "env = MultiTaxiEnv(map=custom_map)\n",
    "env.reset()\n",
    "env.render()"
   ],
   "execution_count": 17,
   "outputs": [
    {
     "output_type": "stream",
     "text": [
      "+---------------+\n",
      "| : :X| : : : : |\n",
      "|X: : | : | :X| |\n",
      "| : :\u001B[43m_\u001B[0m: : : : | |\n",
      "| :\u001B[34;1mX\u001B[0m: | :\u001B[35mX\u001B[0m| : :\u001B[41mX\u001B[0m|\n",
      "+---------------+\n",
      "Taxi1: Location: (2,2)\n",
      "Taxi2: Location: (3,7)\n",
      "Passenger1: Location: (3, 1), Destination: (3, 4)\n"
     ],
     "name": "stdout"
    }
   ]
  },
  {
   "cell_type": "markdown",
   "metadata": {
    "id": "HtRc_ObLSs9a",
    "colab_type": "text"
   },
   "source": [
    "Below we will explore the most interesting environment."
   ]
  },
  {
   "cell_type": "markdown",
   "metadata": {
    "id": "AEaxYxvwSs9b",
    "colab_type": "text"
   },
   "source": [
    "### Multiple taxi with fuel"
   ]
  },
  {
   "cell_type": "markdown",
   "metadata": {
    "id": "CXVStaSySs9b",
    "colab_type": "text"
   },
   "source": [
    "The most complex environment is the multiple taxi with fuel environment. This environment supports an arbitrary number of taxis with fuel and an arbitrary number of passengers. By default, the environment is initialized with two taxis, one passenger, and the maximum (and starting) fuel of each taxi is 8. However, we are able to change all of those parameters like above. This is essentially just the MultiTaxi environment with fuel constraints, so we are still able to dropoff passengers anywhere."
   ]
  },
  {
   "cell_type": "code",
   "metadata": {
    "scrolled": true,
    "id": "vArc7nfESs9c",
    "colab_type": "code",
    "colab": {
     "base_uri": "https://localhost:8080/",
     "height": 204
    },
    "outputId": "737ed809-78a1-4958-88ea-d9c43209b1a3"
   },
   "source": [
    "env = MultiTaxiFuelEnv(num_taxis=2, num_passengers=2, max_fuel=8)\n",
    "env.reset()\n",
    "env.render()"
   ],
   "execution_count": 18,
   "outputs": [
    {
     "output_type": "stream",
     "text": [
      "+---------+\n",
      "|\u001B[43mX\u001B[0m: |F: :\u001B[34;1mX\u001B[0m|\n",
      "| : | : : |\n",
      "| : : : : |\n",
      "| | : | :\u001B[41m_\u001B[0m|\n",
      "|\u001B[34;1mX\u001B[0m| :G|\u001B[35m\u001B[35mX\u001B[0m\u001B[0m: |\n",
      "+---------+\n",
      "Taxi1: Fuel: 8, Location: (0,0)\n",
      "Taxi2: Fuel: 8, Location: (3,4)\n",
      "Passenger1: Location: (4, 0), Destination: (4, 3)\n",
      "Passenger2: Location: (0, 4), Destination: (4, 3)\n"
     ],
     "name": "stdout"
    }
   ]
  },
  {
   "cell_type": "markdown",
   "metadata": {
    "id": "BvOu59wnSs9e",
    "colab_type": "text"
   },
   "source": [
    "Initializing the environment, we have the location and fuel values for each of the passneger, as well as the location and destination values for each passenger. In the multiple passenger enviroment, the episode does not end until each passenger is delivered to their destination.\n",
    "\n",
    "Each state is recorded as a list of lists like the MultiTaxi environment:\n",
    "1. a list of locations of each taxi, formatted [row, col]\n",
    "2. a list of integers specifying fuel levels for each taxi\n",
    "2. a list of passenger starting locations as coordinates\n",
    "3. a list of passenger destinations as coordinates\n",
    "4. a list of current passenger locations as integers, 0 means not picked up, -1 means reached destination, and positive number specifies which taxi they are in"
   ]
  },
  {
   "cell_type": "code",
   "metadata": {
    "id": "Vcnv2t6YSs9e",
    "colab_type": "code",
    "colab": {
     "base_uri": "https://localhost:8080/",
     "height": 34
    },
    "outputId": "095fb0da-d6cd-4130-d616-40080ef92e94"
   },
   "source": [
    "print(env.state)"
   ],
   "execution_count": 19,
   "outputs": [
    {
     "output_type": "stream",
     "text": [
      "[[[0, 0], [3, 4]], [8, 8], [[4, 0], [0, 4]], [[4, 3], [4, 3]], [0, 0]]\n"
     ],
     "name": "stdout"
    }
   ]
  },
  {
   "cell_type": "markdown",
   "metadata": {
    "id": "BHZEd9SeSs9h",
    "colab_type": "text"
   },
   "source": [
    "Like the MultiTaxi environment, actions are now lists of individual actions,  and the actions for each individual taxi are the same as in the original one taxi fuel enviroment (8 poassible actions). For example, suppose that I wish for taxi 1 to go north (action 1) and for taxi 2 to go south (action 0)."
   ]
  },
  {
   "cell_type": "code",
   "metadata": {
    "id": "kP-R6srUSs9h",
    "colab_type": "code",
    "colab": {
     "base_uri": "https://localhost:8080/",
     "height": 238
    },
    "outputId": "1fb1422f-3365-40a3-c8ae-3c271078f949"
   },
   "source": [
    "state, reward, done, _ = env.step([1,0])\n",
    "print(\"Now the reward is given as the reward for each individual taxi: \" + str(reward))\n",
    "\n",
    "env.render()"
   ],
   "execution_count": 20,
   "outputs": [
    {
     "output_type": "stream",
     "text": [
      "Now the reward is given as the reward for each individual taxi: [-20, -1]\n",
      "+---------+\n",
      "|\u001B[43mX\u001B[0m: |F: :\u001B[34;1mX\u001B[0m|\n",
      "| : | : : |\n",
      "| : : : : |\n",
      "| | : | : |\n",
      "|\u001B[34;1mX\u001B[0m| :G|\u001B[35m\u001B[35mX\u001B[0m\u001B[0m:\u001B[41m_\u001B[0m|\n",
      "+---------+\n",
      "  (North ,South)\n",
      "Taxi1: Fuel: 8, Location: (0,0)\n",
      "Taxi2: Fuel: 7, Location: (4,4)\n",
      "Passenger1: Location: (4, 0), Destination: (4, 3)\n",
      "Passenger2: Location: (0, 4), Destination: (4, 3)\n"
     ],
     "name": "stdout"
    }
   ]
  },
  {
   "cell_type": "markdown",
   "metadata": {
    "id": "SR7Ls_EOSs9k",
    "colab_type": "text"
   },
   "source": [
    "Now, we will try a random solution, and see how long it takes to finish an episode. In particular, at every time step, each of the taxis will choose a random action. We can easily do this using the env.action_space.sample() function, which returns a random sample of the action space corresponding to a random action by each taxi."
   ]
  },
  {
   "cell_type": "code",
   "metadata": {
    "id": "ig-vz5T_Ss9l",
    "colab_type": "code",
    "colab": {
     "base_uri": "https://localhost:8080/",
     "height": 51
    },
    "outputId": "2e124262-db63-47b2-862d-edd433bd4d9c"
   },
   "source": [
    "env.reset()\n",
    "epochs = 0\n",
    "penalties, reward = 0, 0\n",
    "\n",
    "frames = [] # for animation\n",
    "\n",
    "done = False\n",
    "\n",
    "while not done:\n",
    "    action = env.action_space.sample()\n",
    "    state, reward, done, info = env.step(action)\n",
    "\n",
    "    if reward[0] == -10 or reward[1] == -10:\n",
    "        penalties += 1\n",
    "    \n",
    "    # Put each rendered frame into dict for animation\n",
    "    frames.append({\n",
    "        'frame': env.render(mode='ansi'),\n",
    "        'state': state,\n",
    "        'action': action,\n",
    "        'reward': reward\n",
    "        }\n",
    "    )\n",
    "\n",
    "    epochs += 1\n",
    "    \n",
    "    \n",
    "print(\"Timesteps taken: {}\".format(epochs))\n",
    "print(\"Penalties incurred: {}\".format(penalties))"
   ],
   "execution_count": 21,
   "outputs": [
    {
     "output_type": "stream",
     "text": [
      "Timesteps taken: 16855\n",
      "Penalties incurred: 15645\n"
     ],
     "name": "stdout"
    }
   ]
  },
  {
   "cell_type": "markdown",
   "metadata": {
    "id": "9phe_7LCSs9n",
    "colab_type": "text"
   },
   "source": [
    "Here, as we have seen, the episode takes a very long time to finish, and the taxis incur many penalties, meaning that they have tried many invalid moves. We can see this in action by replaying the frames of that episode."
   ]
  },
  {
   "cell_type": "code",
   "metadata": {
    "id": "8CJERgbcSs9n",
    "colab_type": "code",
    "colab": {
     "base_uri": "https://localhost:8080/",
     "height": 306
    },
    "outputId": "2e09cad0-e49e-4b0d-f653-0a1dd41cf4b5"
   },
   "source": [
    "from IPython.display import clear_output\n",
    "from time import sleep\n",
    "\n",
    "def print_frames(frames):\n",
    "    for i, frame in enumerate(frames):\n",
    "        clear_output(wait=True)\n",
    "        print(frame['frame'])\n",
    "        print(f\"Timestep: {i + 1}\")\n",
    "        print(f\"State: {frame['state']}\")\n",
    "        print(f\"Action: {frame['action']}\")\n",
    "        print(f\"Reward: {frame['reward']}\")\n",
    "        sleep(.1)\n",
    "        \n",
    "print_frames(frames)"
   ],
   "execution_count": null,
   "outputs": [
    {
     "output_type": "stream",
     "text": [
      "+---------+\n",
      "|X: |\u001B[34;1mF\u001B[0m: :\u001B[43mX\u001B[0m|\n",
      "| : | : :\u001B[41m_\u001B[0m|\n",
      "| :\u001B[34;1m \u001B[0m: : : |\n",
      "| | : | : |\n",
      "|\u001B[35mX\u001B[0m| :G|\u001B[35mX\u001B[0m: |\n",
      "+---------+\n",
      "  (East ,North)\n",
      "Taxi1: Fuel: 0, Location: (0,4)\n",
      "Taxi2: Fuel: 0, Location: (1,4)\n",
      "Passenger1: Location: (0, 2), Destination: (4, 0)\n",
      "Passenger2: Location: (2, 1), Destination: (4, 3)\n",
      "\n",
      "Timestep: 3885\n",
      "State: [[[3, 3], [4, 3]], [0, 0], [[2, 1], [3, 3]], [[4, 0], [4, 3]], [-1, -1]]\n",
      "Action: [2 1]\n",
      "Reward: [-20, -10]\n"
     ],
     "name": "stdout"
    }
   ]
  },
  {
   "cell_type": "code",
   "metadata": {
    "id": "i9w9UTr0VEEK",
    "colab_type": "code",
    "colab": {}
   },
   "source": [
    ""
   ],
   "execution_count": null,
   "outputs": []
  }
 ]
}