{
 "cells": [
  {
   "cell_type": "markdown",
   "metadata": {
    "colab_type": "text",
    "id": "9x5FMGOESs8Y"
   },
   "source": [
    "## Variationon the Taxi-Grid Enviroment"
   ]
  },
  {
   "cell_type": "markdown",
   "metadata": {
    "colab_type": "text",
    "id": "sIKdvT6vSs8Z"
   },
   "source": [
    "### Motivation"
   ]
  },
  {
   "cell_type": "markdown",
   "metadata": {
    "colab_type": "text",
    "id": "j4CIXTWLSs8a"
   },
   "source": [
    "Our project is based on the taxi gym environment (https://gym.openai.com/envs/Taxi-v3/), which is a basic \"grid-world\" enviroment used for research in artificial intelligence and reinforcement learning."
   ]
  },
  {
   "cell_type": "code",
   "execution_count": 1,
   "metadata": {
    "colab": {
     "base_uri": "https://localhost:8080/",
     "height": 153
    },
    "colab_type": "code",
    "id": "OqJ8uXotSs8b",
    "outputId": "59356029-830b-45a4-d956-fa3ec931ce83"
   },
   "outputs": [
    {
     "name": "stdout",
     "output_type": "stream",
     "text": [
      "+---------+\n",
      "|\u001B[34;1mR\u001B[0m: | : :\u001B[35mG\u001B[0m|\n",
      "| : | : : |\n",
      "| : : : : |\n",
      "| | : | : |\n",
      "|Y| :\u001B[43m \u001B[0m|B: |\n",
      "+---------+\n",
      "\n"
     ]
    }
   ],
   "source": [
    "import gym\n",
    "\n",
    "env = gym.make(\"Taxi-v3\").env\n",
    "\n",
    "env.reset ()\n",
    "env.render()"
   ]
  },
  {
   "cell_type": "markdown",
   "metadata": {
    "colab_type": "text",
    "id": "YGvTYwNhSs8h"
   },
   "source": [
    "This is original taxi grid enviroment, which is available as part of the OpenAI gym module. The enviroment models a taxi, which moves within the gridworld enviroment with the goal of picking up a passenger and bringing her to her destination.\n",
    "\n",
    "Our modifications on the original enviroment were created with two main\n",
    "goals:  \n",
    "**First**, the original taxi grid enviroment is a single agent enviroment. We were interested in allowing multi-agent reinforcement learning, so we created an option to use multiple taxis.  \n",
    "**Second**, by adding a fuel constraint modification, we were able to test whether agents would be able to consider the long term fuel constraint, and maybe use the environment in limitted resources research situations.  \n",
    "**Third**, our environment can show and allow/restrict for taxis collision.  \n",
    "**Fourth**, we added to the fuel constraint a fuel-type constraint (we can model gas/fuel taxis with suitable fuel stations)."
   ]
  },
  {
   "cell_type": "markdown",
   "metadata": {
    "colab_type": "text",
    "id": "yEhPGfizSs8i"
   },
   "source": [
    "### Installation"
   ]
  },
  {
   "cell_type": "markdown",
   "metadata": {
    "colab_type": "text",
    "id": "NBoscLwESs8i"
   },
   "source": [
    "To work with our custom enviroments, the first thing that we want to do is to install them. As the enviroments are packaged together into a module called \"multitaxienv\" which is to be found on the github, it is easy to install all of the modules at once."
   ]
  },
  {
   "cell_type": "code",
   "execution_count": 2,
   "metadata": {
    "colab": {
     "base_uri": "https://localhost:8080/",
     "height": 289
    },
    "colab_type": "code",
    "id": "QoHB9ZC5Ss8j",
    "outputId": "8cba1882-27d6-49e8-a0d1-4fc20c61c4d0"
   },
   "outputs": [
    {
     "name": "stdout",
     "output_type": "stream",
     "text": [
      "Collecting git+https://github.com/sarah-keren/MutliTaxiEnv.git\n",
      "  Cloning https://github.com/sarah-keren/MutliTaxiEnv.git to /tmp/pip-req-build-r3uofinr\n",
      "  Running command git clone -q https://github.com/sarah-keren/MutliTaxiEnv.git /tmp/pip-req-build-r3uofinr\n",
      "Requirement already satisfied, skipping upgrade: numpy in /usr/local/lib/python3.6/dist-packages (from MultiTaxiEnv==0.2) (1.18.5)\n",
      "Requirement already satisfied, skipping upgrade: gym in /usr/local/lib/python3.6/dist-packages (from MultiTaxiEnv==0.2) (0.17.2)\n",
      "Requirement already satisfied, skipping upgrade: scipy in /usr/local/lib/python3.6/dist-packages (from gym->MultiTaxiEnv==0.2) (1.4.1)\n",
      "Requirement already satisfied, skipping upgrade: pyglet<=1.5.0,>=1.4.0 in /usr/local/lib/python3.6/dist-packages (from gym->MultiTaxiEnv==0.2) (1.5.0)\n",
      "Requirement already satisfied, skipping upgrade: cloudpickle<1.4.0,>=1.2.0 in /usr/local/lib/python3.6/dist-packages (from gym->MultiTaxiEnv==0.2) (1.3.0)\n",
      "Requirement already satisfied, skipping upgrade: future in /usr/local/lib/python3.6/dist-packages (from pyglet<=1.5.0,>=1.4.0->gym->MultiTaxiEnv==0.2) (0.16.0)\n",
      "Building wheels for collected packages: MultiTaxiEnv\n",
      "  Building wheel for MultiTaxiEnv (setup.py) ... \u001B[?25l\u001B[?25hdone\n",
      "  Created wheel for MultiTaxiEnv: filename=MultiTaxiEnv-0.2-cp36-none-any.whl size=11042 sha256=4276509999855777277fc12b9947e5e0959f932039121f2ca297a1ffff03d204\n",
      "  Stored in directory: /tmp/pip-ephem-wheel-cache-1u1ngwdm/wheels/a7/8b/8f/2c7828f791585f08f092f39fb14023ccf64d14a1a3d68143ef\n",
      "Successfully built MultiTaxiEnv\n",
      "Installing collected packages: MultiTaxiEnv\n",
      "Successfully installed MultiTaxiEnv-0.2\n"
     ]
    }
   ],
   "source": [
    "!pip install git+https://github.com/sarah-keren/MutliTaxiEnv.git --upgrade"
   ]
  },
  {
   "cell_type": "markdown",
   "metadata": {
    "colab_type": "text",
    "id": "EFeZ_l6mSs8m"
   },
   "source": [
    "You'll note that we have only one calss file. To support all the variations of our environment we use the parameters in the __init__ of our class.\n",
    "\n",
    "After installing the environment, run the following line:"
   ]
  },
  {
   "cell_type": "code",
   "execution_count": 1,
   "metadata": {},
   "outputs": [],
   "source": [
    "%load_ext autoreload\n",
    "%autoreload 2\n",
    "from multitaxienv.taxi_environment import TaxiEnv"
   ]
  },
  {
   "cell_type": "markdown",
   "metadata": {},
   "source": [
    "### Initializing Environment - Hyper-Parameters of the Class"
   ]
  },
  {
   "cell_type": "code",
   "execution_count": 38,
   "metadata": {},
   "outputs": [],
   "source": [
    "env = TaxiEnv(num_taxis = 2, num_passengers = 2, max_fuel = None,\n",
    "                 taxis_capacity = None, collision_sensitive_domain = False,\n",
    "                 fuel_type_list = None, option_to_stand_by = True)"
   ]
  },
  {
   "cell_type": "markdown",
   "metadata": {},
   "source": [
    "1. *num_taxis* - default is 2, but you can select every number $\\in$ $[1, \\infty)$.\n",
    "2. *num_passengers* - same.\n",
    "3. *max_fuel* - a list where the i'th element is the max fuel of taxi number i. Each taxi starts with max fuel. Default is **None** which sets fuel limit to np.inf (no fuel model).\n",
    "4. *taxis_capacity* - A list with the passengers limit for each taxi, default is 1 for each taxi.\n",
    "5. *collision_sensitive_domain* - Boolean to specify wether collisions will be shown and affect the domain (True) or will be ignored (False).\n",
    "6. *fuel_type_list* - The fuel type ('**F**uel / '**G**as' of each taxi, default is 'F'.\n",
    "7. *option_to_stand_by* - Can taxis stand in place (True), or not (False), default is True."
   ]
  },
  {
   "cell_type": "code",
   "execution_count": 3,
   "metadata": {},
   "outputs": [
    {
     "name": "stdout",
     "output_type": "stream",
     "text": [
      "+---------+\n",
      "|\u001B[34;1mX\u001B[0m: |F:\u001B[41m_\u001B[0m:\u001B[35m\u001B[35mX\u001B[0m\u001B[0m|\n",
      "| : | : : |\n",
      "| : : : : |\n",
      "| | : | : |\n",
      "|\u001B[43m\u001B[34;1mX\u001B[0m\u001B[0m| :G|X: |\n",
      "+---------+\n",
      "Taxi1-YELLOW: Fuel: inf, Location: (4,0), Collided: False\n",
      "Taxi2-RED: Fuel: inf, Location: (0,3), Collided: False\n",
      "Passenger1: Location: (4, 0), Destination: (0, 4)\n",
      "Passenger2: Location: (0, 0), Destination: (0, 4)\n"
     ]
    }
   ],
   "source": [
    "env = TaxiEnv()\n",
    "env.reset()\n",
    "env.s = 1022\n",
    "env.render()"
   ]
  },
  {
   "cell_type": "markdown",
   "metadata": {},
   "source": [
    "Here we initialized a domain with the default values. As we can see:  \n",
    "We have **2 taxis** represented in the highlighted boxes, we can see wich taxi in which color by the description printed below the map.  \n",
    "We also have **np.inf** fuel limit.  \n",
    "There are also **2 passengers** at the X marked positions with destination at X colored in *magenta*.\n",
    "\n",
    "Note that we save for each taxi wether it had been collided or not."
   ]
  },
  {
   "cell_type": "markdown",
   "metadata": {},
   "source": [
    "### Action Space of the Environment"
   ]
  },
  {
   "cell_type": "code",
   "execution_count": 4,
   "metadata": {},
   "outputs": [
    {
     "data": {
      "text/plain": [
       "{0: 'south',\n",
       " 1: 'north',\n",
       " 2: 'east',\n",
       " 3: 'west',\n",
       " 4: 'pickup',\n",
       " 5: 'dropoff',\n",
       " 6: 'turn_engine_on',\n",
       " 7: 'turn_engine_off',\n",
       " 8: 'standby',\n",
       " 9: 'refuel'}"
      ]
     },
     "execution_count": 4,
     "metadata": {},
     "output_type": "execute_result"
    }
   ],
   "source": [
    "env.get_available_actions_dictionary()[1]"
   ]
  },
  {
   "cell_type": "markdown",
   "metadata": {},
   "source": [
    "**get_available_actions_dictionary()** returns a tuple where:  \n",
    "1. 1st element - available action indexes that the specific initialized domain supports.\n",
    "2. 2nd element - the dictionary above which specify all available actions' names and it's indexes.  \n",
    "\n",
    "*Note that in no-fuel model (induced by max_fuel = np.inf) and in no option to standby model - we won't be able to use actions: 9 and 6, 7, 8 respectively.*"
   ]
  },
  {
   "cell_type": "code",
   "execution_count": 5,
   "metadata": {},
   "outputs": [
    {
     "data": {
      "text/plain": [
       "[0, 1, 2, 3, 4, 5, 6, 7, 8]"
      ]
     },
     "execution_count": 5,
     "metadata": {},
     "output_type": "execute_result"
    }
   ],
   "source": [
    "env.get_available_actions_dictionary()[0]"
   ]
  },
  {
   "cell_type": "markdown",
   "metadata": {},
   "source": [
    "At the first element returned we get the action space available to us on the initialized domain.  \n",
    "**Those indexes are the actions we send to the domain when we want to make a step!**"
   ]
  },
  {
   "cell_type": "markdown",
   "metadata": {
    "colab_type": "text",
    "id": "aBV-75fhSs8v"
   },
   "source": [
    "Here we send actions \"east\" for each one of our 2 taxis.  \n",
    "We get the environment's next state which is build as: **taxis locations, current_fuel_list, passengers_start_locations, destinations, passengers_status**."
   ]
  },
  {
   "cell_type": "code",
   "execution_count": 6,
   "metadata": {
    "colab": {
     "base_uri": "https://localhost:8080/",
     "height": 34
    },
    "colab_type": "code",
    "id": "E15ZVBhuSs8v",
    "outputId": "3abb2c99-ebc3-444f-a401-ef862787018d"
   },
   "outputs": [
    {
     "name": "stdout",
     "output_type": "stream",
     "text": [
      "The next state is: [[[4, 0], [0, 4]], [inf, inf], [[4, 0], [0, 0]], [[0, 4], [0, 4]], [0, 0]], the reward for the last action is: [-20, -1], and the episode is not done.\n"
     ]
    }
   ],
   "source": [
    "state, reward, done = env.step([2, 2])\n",
    "print(\"The next state is: \" + str(state) + \", the reward for the last action is: \" + str(reward) + \", and the episode is \"+ {True: \"\", False: \"not\"}[done]  + \" done.\")"
   ]
  },
  {
   "cell_type": "markdown",
   "metadata": {
    "colab_type": "text",
    "id": "BSeB3yZcSs8z"
   },
   "source": [
    "Generally to preform an action, we use the step function. This returns a tuple which includes the next state, the reward and whether the episode has ended or not.  \n",
    "In this environment, the episode ends when either:\n",
    "1. *all passengers reached their destinations*.\n",
    "2. *all taxis are out of fuel*.\n",
    "3. *all taxis collided*.  "
   ]
  },
  {
   "cell_type": "markdown",
   "metadata": {},
   "source": [
    "The ***rewards***, are given in the config.py as below:"
   ]
  },
  {
   "cell_type": "code",
   "execution_count": null,
   "metadata": {},
   "outputs": [],
   "source": [
    "taxi_env_rewards = dict(\n",
    "    step=-1,\n",
    "    no_fuel=-20,\n",
    "    bad_pickup=-15,\n",
    "    bad_dropoff=-15,\n",
    "    bad_refuel=-10,\n",
    "    pickup=-1,\n",
    "    standby_engine_off=-1,\n",
    "    turn_engine_on=-1,\n",
    "    turn_engine_off=-1,\n",
    "    standby_engine_on=-1,\n",
    "    intermediate_dropoff=-10,\n",
    "    final_dropoff=100,\n",
    "    hit_wall=-20,\n",
    "    collision=-30,\n",
    ")"
   ]
  },
  {
   "cell_type": "markdown",
   "metadata": {},
   "source": [
    "Now let's try to navigate to the fuel station:"
   ]
  },
  {
   "cell_type": "code",
   "execution_count": 72,
   "metadata": {},
   "outputs": [
    {
     "name": "stdout",
     "output_type": "stream",
     "text": [
      "+---------+\n",
      "|X: |F: :X|\n",
      "| : | : : |\n",
      "| : : : : |\n",
      "| | :\u001B[41m_\u001B[0m| : |\n",
      "|\u001B[35m\u001B[35mX\u001B[0m\u001B[0m| :G|\u001B[34;1m\u001B[34;1mX\u001B[0m\u001B[0m:\u001B[43m_\u001B[0m|\n",
      "+---------+\n",
      "  (east ,east)\n",
      "Taxi1-YELLOW: Fuel: inf, Location: (4,4), Collided: False\n",
      "Taxi2-RED: Fuel: inf, Location: (3,2), Collided: False\n",
      "Passenger1: Location: (4, 3), Destination: (4, 0)\n",
      "Passenger2: Location: (4, 3), Destination: (4, 0)\n"
     ]
    }
   ],
   "source": [
    "env.render()"
   ]
  },
  {
   "cell_type": "code",
   "execution_count": 73,
   "metadata": {},
   "outputs": [
    {
     "name": "stdout",
     "output_type": "stream",
     "text": [
      "+---------+\n",
      "|X: |F: :X|\n",
      "| : | : : |\n",
      "| : : : : |\n",
      "| | : | :\u001B[43m_\u001B[0m|\n",
      "|\u001B[35m\u001B[35mX\u001B[0m\u001B[0m| :\u001B[41mG\u001B[0m|\u001B[34;1m\u001B[34;1mX\u001B[0m\u001B[0m: |\n",
      "+---------+\n",
      "  (north ,south)\n",
      "Taxi1-YELLOW: Fuel: inf, Location: (3,4), Collided: False\n",
      "Taxi2-RED: Fuel: inf, Location: (4,2), Collided: False\n",
      "Passenger1: Location: (4, 3), Destination: (4, 0)\n",
      "Passenger2: Location: (4, 3), Destination: (4, 0)\n"
     ]
    }
   ],
   "source": [
    "env.step([1, 0])\n",
    "env.render()"
   ]
  },
  {
   "cell_type": "markdown",
   "metadata": {},
   "source": [
    "**Now let's do the same thing with a limtted fuel mode.**  \n",
    "Notice in the map-description as the fuel status changes for the taxi that we move."
   ]
  },
  {
   "cell_type": "code",
   "execution_count": 8,
   "metadata": {},
   "outputs": [],
   "source": [
    "env_limitted_fuel = TaxiEnv(num_taxis = 2, num_passengers = 2, max_fuel = [5, 5],\n",
    "                            taxis_capacity = None, collision_sensitive_domain = False,\n",
    "                            fuel_type_list = None, option_to_stand_by = True)"
   ]
  },
  {
   "cell_type": "code",
   "execution_count": 9,
   "metadata": {},
   "outputs": [
    {
     "name": "stdout",
     "output_type": "stream",
     "text": [
      "+---------+\n",
      "|\u001B[35m\u001B[35mX\u001B[0m\u001B[0m: |F:\u001B[43m_\u001B[0m:\u001B[34;1mX\u001B[0m|\n",
      "|\u001B[41m_\u001B[0m: | : : |\n",
      "| : : : : |\n",
      "| | : | : |\n",
      "|\u001B[34;1mX\u001B[0m| :G|X: |\n",
      "+---------+\n",
      "Taxi1-YELLOW: Fuel: 5, Location: (0,3), Collided: False\n",
      "Taxi2-RED: Fuel: 5, Location: (1,0), Collided: False\n",
      "Passenger1: Location: (0, 4), Destination: (0, 0)\n",
      "Passenger2: Location: (4, 0), Destination: (0, 0)\n"
     ]
    }
   ],
   "source": [
    "env_limitted_fuel.reset()\n",
    "env_limitted_fuel.render()"
   ]
  },
  {
   "cell_type": "markdown",
   "metadata": {
    "colab_type": "text",
    "id": "IuYHLwbFSs82",
    "pycharm": {
     "name": "#%% md\n"
    }
   },
   "source": [
    "We will now navigate to the fuel station and refuel.\n",
    "Notice how the fuel of each taxi changes as it moves."
   ]
  },
  {
   "cell_type": "code",
   "execution_count": 10,
   "metadata": {
    "pycharm": {
     "name": "#%%\n"
    }
   },
   "outputs": [
    {
     "name": "stdout",
     "output_type": "stream",
     "text": [
      "+---------+\n",
      "|\u001B[35m\u001B[35mX\u001B[0m\u001B[0m: |\u001B[43mF\u001B[0m: :\u001B[34;1mX\u001B[0m|\n",
      "| : | : : |\n",
      "|\u001B[41m_\u001B[0m: : : : |\n",
      "| | : | : |\n",
      "|\u001B[34;1mX\u001B[0m| :G|X: |\n",
      "+---------+\n",
      "  (west ,south)\n",
      "Taxi1-YELLOW: Fuel: 4, Location: (0,2), Collided: False\n",
      "Taxi2-RED: Fuel: 4, Location: (2,0), Collided: False\n",
      "Passenger1: Location: (0, 4), Destination: (0, 0)\n",
      "Passenger2: Location: (4, 0), Destination: (0, 0)\n"
     ]
    }
   ],
   "source": [
    "env_limitted_fuel.step([3, 0])  # north, south\n",
    "env_limitted_fuel.render()"
   ]
  },
  {
   "cell_type": "code",
   "execution_count": 11,
   "metadata": {},
   "outputs": [
    {
     "name": "stdout",
     "output_type": "stream",
     "text": [
      "+---------+\n",
      "|\u001B[35m\u001B[35mX\u001B[0m\u001B[0m: |\u001B[43mF\u001B[0m: :\u001B[34;1mX\u001B[0m|\n",
      "|\u001B[41m_\u001B[0m: | : : |\n",
      "| : : : : |\n",
      "| | : | : |\n",
      "|\u001B[34;1mX\u001B[0m| :G|X: |\n",
      "+---------+\n",
      "  (refuel ,north)\n",
      "Taxi1-YELLOW: Fuel: 4, Location: (0,2), Collided: False\n",
      "Taxi2-RED: Fuel: 3, Location: (1,0), Collided: False\n",
      "Passenger1: Location: (0, 4), Destination: (0, 0)\n",
      "Passenger2: Location: (4, 0), Destination: (0, 0)\n"
     ]
    }
   ],
   "source": [
    "env_limitted_fuel.step([9, 1])  # refuel, north\n",
    "env_limitted_fuel.render()"
   ]
  },
  {
   "cell_type": "code",
   "execution_count": 12,
   "metadata": {},
   "outputs": [
    {
     "data": {
      "text/plain": [
       "'F'"
      ]
     },
     "execution_count": 12,
     "metadata": {},
     "output_type": "execute_result"
    }
   ],
   "source": [
    "env_limitted_fuel.map_at_location(env_limitted_fuel.state[0][0])"
   ]
  },
  {
   "cell_type": "code",
   "execution_count": null,
   "outputs": [],
   "source": [
    "env_limitted_fuel.fuel_type_list"
   ],
   "metadata": {
    "collapsed": false,
    "pycharm": {
     "name": "#%%\n"
    }
   }
  },
  {
   "cell_type": "code",
   "execution_count": 14,
   "metadata": {},
   "outputs": [
    {
     "data": {
      "text/plain": [
       "['F', 'F']"
      ]
     },
     "execution_count": 14,
     "metadata": {},
     "output_type": "execute_result"
    }
   ],
   "source": [
    "env_limitted_fuel.step([1, 0])\n",
    "env_limitted_fuel.render()"
   ]
  },
  {
   "cell_type": "code",
   "execution_count": null,
   "metadata": {
    "pycharm": {
     "name": "#%%\n"
    }
   },
   "outputs": [],
   "source": [
    "env_limitted_fuel.step([1, 0])\n",
    "env_limitted_fuel.render()"
   ]
  },
  {
   "cell_type": "code",
   "execution_count": null,
   "metadata": {
    "pycharm": {
     "name": "#%%\n"
    }
   },
   "outputs": [],
   "source": [
    "state, reward, done = env_limitted_fuel.step([1, 9])\n",
    "env_limitted_fuel.render()"
   ]
  },
  {
   "cell_type": "code",
   "execution_count": 63,
   "metadata": {},
   "outputs": [
    {
     "name": "stdout",
     "output_type": "stream",
     "text": [
      "+---------+\n",
      "|\u001B[35m\u001B[35mX\u001B[0m\u001B[0m:\u001B[43m_\u001B[0m|F: :X|\n",
      "| : | : : |\n",
      "| : : : : |\n",
      "| | : | : |\n",
      "|\u001B[34;1m\u001B[34;1mX\u001B[0m\u001B[0m| :\u001B[41mG\u001B[0m|X: |\n",
      "+---------+\n",
      "  (north ,south)\n",
      "Taxi1-YELLOW: Fuel: 1, Location: (0,1), Collided: False\n",
      "Taxi2-RED: Fuel: 2, Location: (4,2), Collided: False\n",
      "Passenger1: Location: (4, 0), Destination: (0, 0)\n",
      "Passenger2: Location: (4, 0), Destination: (0, 0)\n"
     ]
    }
   ],
   "source": [
    "Here, since we have refuelled, we are back at full. Another thing to note is that the state of the environment is encoded using a single number that represents the state. However, sometimes it may be useful to decode what that number actually means (for example, when using deep-Q learning). We can do that using the decode function."
   ]
  },
  {
   "cell_type": "code",
   "execution_count": 64,
   "metadata": {
    "colab": {
     "base_uri": "https://localhost:8080/",
     "height": 170
    },
    "colab_type": "code",
    "id": "vojOxmSmSs83",
    "outputId": "57373482-f79c-4d37-fbfb-d0ae4c569590",
    "scrolled": true
   },
   "outputs": [
    {
     "name": "stdout",
     "output_type": "stream",
     "text": [
      "+---------+\n",
      "|\u001B[35m\u001B[35mX\u001B[0m\u001B[0m:\u001B[43m_\u001B[0m|F: :X|\n",
      "| : | : : |\n",
      "| : : : : |\n",
      "| | : | : |\n",
      "|\u001B[34;1m\u001B[34;1mX\u001B[0m\u001B[0m| :\u001B[41mG\u001B[0m|X: |\n",
      "+---------+\n",
      "  (north ,refuel)\n",
      "Taxi1-YELLOW: Fuel: 1, Location: (0,1), Collided: False\n",
      "Taxi2-RED: Fuel: 2, Location: (4,2), Collided: False\n",
      "Passenger1: Location: (4, 0), Destination: (0, 0)\n",
      "Passenger2: Location: (4, 0), Destination: (0, 0)\n"
     ]
    }
   ],
   "source": [
    "state, reward, done = env_limitted_fuel.step([1, 9])\n",
    "env_limitted_fuel.render()"
   ]
  },
  {
   "cell_type": "markdown",
   "metadata": {
    "colab_type": "text",
    "id": "uI60U2tuSs86"
   },
   "source": [
    "Here, since we have refuelled, we are back at full. Another thing to note is that the state of the environment is encoded using a single number that represents the state. However, sometimes it may be useful to decode what that number actually means (for example, when using deep-Q learning). We can do that using the decode function."
   ]
  },
  {
   "cell_type": "code",
   "execution_count": 8,
   "metadata": {
    "colab": {
     "base_uri": "https://localhost:8080/",
     "height": 68
    },
    "colab_type": "code",
    "id": "QBREn5TBSs87",
    "outputId": "78d1f74d-b1ba-409a-9d70-05e7ea140a92"
   },
   "outputs": [
    {
     "name": "stdout",
     "output_type": "stream",
     "text": [
      "The coordinates of the taxi are currently: (0,2)\n",
      "The index of the passenger location is: 3, while the index of the passenger destination is: 0\n",
      "Currently, the fuel level of the taxi is: 8\n"
     ]
    }
   ],
   "source": [
    "x, y, pass_loc, pass_dest, fuel = list(env.decode(state))\n",
    "print(\"The coordinates of the taxi are currently: \" + \"(\" + str(x) + \",\" + str(y) +\")\")\n",
    "print(\"The index of the passenger location is: \" + str(pass_loc) + \", while the index of the passenger destination is: \" + str(pass_dest))\n",
    "print(\"Currently, the fuel level of the taxi is: \" + str(fuel))"
   ]
  },
  {
   "cell_type": "markdown",
   "metadata": {
    "colab_type": "text",
    "id": "AClb59v6Ss8-"
   },
   "source": [
    "You can also input your own map as a list of strings and specify the maximum fuel. The map must be formatted in the same way as above, with '+'at the corners and '-', '|' specifying the boundaries. You can have as many destination and fuel stations as you want!"
   ]
  },
  {
   "cell_type": "code",
   "execution_count": 9,
   "metadata": {
    "colab": {},
    "colab_type": "code",
    "id": "rWBVp4TQSs8-"
   },
   "outputs": [],
   "source": [
    "custom_map = [\n",
    "    '+---------------+',\n",
    "    '| : :X| :F: : : |',\n",
    "    '|X: : | : | :X| |',\n",
    "    '| : : : : : : | |',\n",
    "    '| :X:F| :X| : :X|',\n",
    "    '+---------------+',\n",
    "]"
   ]
  },
  {
   "cell_type": "code",
   "execution_count": 10,
   "metadata": {
    "colab": {
     "base_uri": "https://localhost:8080/",
     "height": 153
    },
    "colab_type": "code",
    "id": "3DwdpeQ7Ss9B",
    "outputId": "106b3dcc-5d5a-43bc-ec7f-e45a475c66f1",
    "scrolled": true
   },
   "outputs": [
    {
     "name": "stdout",
     "output_type": "stream",
     "text": [
      "+---------------+\n",
      "| : :X| :F: : : |\n",
      "|X: : | : | :\u001B[35mX\u001B[0m| |\n",
      "| : : : : : : | |\n",
      "| :\u001B[34;1mX\u001B[0m:F|\u001B[43m \u001B[0m:X| : :X|\n",
      "+---------------+\n",
      "Fuel: 6\n",
      "\n"
     ]
    }
   ],
   "source": [
    "env = OneTaxiFuelEnv(max_fuel=6, map=custom_map)\n",
    "env.reset()\n",
    "env.render()"
   ]
  },
  {
   "cell_type": "markdown",
   "metadata": {
    "colab_type": "text",
    "id": "h1vvCg8JSs9E"
   },
   "source": [
    "This concludes the demonstration for the single taxi with fuel environment."
   ]
  },
  {
   "cell_type": "markdown",
   "metadata": {
    "colab_type": "text",
    "id": "-X5dZoh8Ss9F"
   },
   "source": [
    "### Multiple taxis without fuel"
   ]
  },
  {
   "cell_type": "markdown",
   "metadata": {
    "colab_type": "text",
    "id": "Jj4vvFKJSs9F"
   },
   "source": [
    "This environment supports having multiple taxis and multiple passengers which you can specify when initializing. The default initialization is two taxis and one passenger. The goal is to deliver all passengers to their destinations. Each taxi can only carry one passenger at a time, but can dropoff passengers anywhere."
   ]
  },
  {
   "cell_type": "code",
   "execution_count": 11,
   "metadata": {
    "colab": {
     "base_uri": "https://localhost:8080/",
     "height": 221
    },
    "colab_type": "code",
    "id": "9M5GL4kSSs9G",
    "outputId": "e9b40e94-6c27-4a24-8929-44764c2f0853"
   },
   "outputs": [
    {
     "name": "stdout",
     "output_type": "stream",
     "text": [
      "+---------+\n",
      "|\u001B[35m\u001B[34;1mX\u001B[0m\u001B[0m:\u001B[41m_\u001B[0m| : :X|\n",
      "| : | : : |\n",
      "| :\u001B[47m_\u001B[0m:\u001B[43m_\u001B[0m: : |\n",
      "| | : | : |\n",
      "|\u001B[34;1mX\u001B[0m| : |\u001B[35mX\u001B[0m: |\n",
      "+---------+\n",
      "Taxi1: Location: (2,2)\n",
      "Taxi2: Location: (0,1)\n",
      "Taxi3: Location: (2,1)\n",
      "Passenger1: Location: (4, 0), Destination: (0, 0)\n",
      "Passenger2: Location: (0, 0), Destination: (4, 3)\n"
     ]
    }
   ],
   "source": [
    "env = MultiTaxiEnv(num_taxis=3, num_passengers=2)\n",
    "env.reset()\n",
    "env.state = [[[2, 2], [0, 1], [2, 1]], [[4, 0], [0, 0]], [[0, 0], [4, 3]], [0, 0]]\n",
    "env.render()"
   ]
  },
  {
   "cell_type": "markdown",
   "metadata": {
    "colab_type": "text",
    "id": "aqaOGQZ8Ss9J"
   },
   "source": [
    "Each state is recorded as a list of lists:\n",
    "1. a list of locations of each taxi, formatted [row, col]\n",
    "2. a list of passenger starting locations as coordinates\n",
    "3. a list of passenger destinations as coordinates\n",
    "4. a list of current passenger locations as integers, 0 means not picked up, -1 means reached destination, and positive number specifies which taxi they are in\n",
    "\n",
    "The i'th observation in each of the relevant passenger lists correspond to the same passenger.\n",
    "\n"
   ]
  },
  {
   "cell_type": "code",
   "execution_count": 12,
   "metadata": {
    "colab": {
     "base_uri": "https://localhost:8080/",
     "height": 34
    },
    "colab_type": "code",
    "id": "D8vDwetcSs9J",
    "outputId": "e9b5c74b-c2e6-4a16-cca7-a2959a520077"
   },
   "outputs": [
    {
     "name": "stdout",
     "output_type": "stream",
     "text": [
      "[[[2, 2], [0, 1], [2, 1]], [[4, 0], [0, 0]], [[0, 0], [4, 3]], [0, 0]]\n"
     ]
    }
   ],
   "source": [
    "print(env.state)"
   ]
  },
  {
   "cell_type": "markdown",
   "metadata": {
    "colab_type": "text",
    "id": "bqFIFoUDSs9M"
   },
   "source": [
    "Actions are inputted as list of actions corresponding to each taxi. Each taxi has the same actions as in the above environment with only one taxi except for refueling. Thus the action space of the taxi is (0,1,2,3,4,5,6), where 0,1,2,3 are move south, north, east, west respecitvely, 4 is pickup passenger, 5 is dropoff passenger, and 6 is standby.\n",
    "\n",
    "Let's move taxis 1 and 3 south, and taxi 2 west."
   ]
  },
  {
   "cell_type": "code",
   "execution_count": 13,
   "metadata": {
    "colab": {
     "base_uri": "https://localhost:8080/",
     "height": 255
    },
    "colab_type": "code",
    "id": "Sb8BBBJzSs9M",
    "outputId": "1785eb37-f3f1-421e-8135-366188c3e256"
   },
   "outputs": [
    {
     "name": "stdout",
     "output_type": "stream",
     "text": [
      "Now the reward is given as the reward for each individual taxi: [-1, -1, -1]\n",
      "+---------+\n",
      "|\u001B[35m\u001B[41m\u001B[34;1mX\u001B[0m\u001B[0m\u001B[0m: | : :X|\n",
      "| : | : : |\n",
      "| : : : : |\n",
      "| |\u001B[47m_\u001B[0m:\u001B[43m_\u001B[0m| : |\n",
      "|\u001B[34;1mX\u001B[0m| : |\u001B[35mX\u001B[0m: |\n",
      "+---------+\n",
      "  (South ,West ,South)\n",
      "Taxi1: Location: (3,2)\n",
      "Taxi2: Location: (0,0)\n",
      "Taxi3: Location: (3,1)\n",
      "Passenger1: Location: (4, 0), Destination: (0, 0)\n",
      "Passenger2: Location: (0, 0), Destination: (4, 3)\n"
     ]
    }
   ],
   "source": [
    "state, reward, done, _ = env.step([0,3,0])\n",
    "print(\"Now the reward is given as the reward for each individual taxi: \" + str(reward))\n",
    "\n",
    "env.render()"
   ]
  },
  {
   "cell_type": "markdown",
   "metadata": {
    "colab_type": "text",
    "id": "aEFL53vjSs9P"
   },
   "source": [
    "To demonstrate the ability to dropoff passengers anywhere, we will pickup passenger 2 with taxi 2 while telling other taxis to dropoff. Then we will move taxi 2 south twice and dropoff."
   ]
  },
  {
   "cell_type": "code",
   "execution_count": 14,
   "metadata": {
    "colab": {
     "base_uri": "https://localhost:8080/",
     "height": 901
    },
    "colab_type": "code",
    "id": "zEEaU4NYSs9P",
    "outputId": "7bbd6906-84e9-41aa-c5c9-12e1236b91ab"
   },
   "outputs": [
    {
     "name": "stdout",
     "output_type": "stream",
     "text": [
      "+---------+\n",
      "|\u001B[35m\u001B[41;1mX\u001B[0m\u001B[0m: | : :X|\n",
      "| : | : : |\n",
      "| : : : : |\n",
      "| |\u001B[47m_\u001B[0m:\u001B[43m_\u001B[0m| : |\n",
      "|\u001B[34;1mX\u001B[0m| : |\u001B[35mX\u001B[0m: |\n",
      "+---------+\n",
      "  (Dropoff ,Pickup ,Dropoff)\n",
      "Taxi1: Location: (3,2)\n",
      "Taxi2: Location: (0,0)\n",
      "Taxi3: Location: (3,1)\n",
      "Passenger1: Location: (4, 0), Destination: (0, 0)\n",
      "Passenger2: Location: Taxi2, Destination: (4, 3)\n",
      "+---------+\n",
      "|\u001B[35mX\u001B[0m: | : :X|\n",
      "|\u001B[41;1m \u001B[0m: | : : |\n",
      "| : : : : |\n",
      "| |\u001B[47m_\u001B[0m:\u001B[43m_\u001B[0m| : |\n",
      "|\u001B[34;1mX\u001B[0m| : |\u001B[35mX\u001B[0m: |\n",
      "+---------+\n",
      "  (Dropoff ,South ,Dropoff)\n",
      "Taxi1: Location: (3,2)\n",
      "Taxi2: Location: (1,0)\n",
      "Taxi3: Location: (3,1)\n",
      "Passenger1: Location: (4, 0), Destination: (0, 0)\n",
      "Passenger2: Location: Taxi2, Destination: (4, 3)\n",
      "+---------+\n",
      "|\u001B[35mX\u001B[0m: | : :X|\n",
      "| : | : : |\n",
      "|\u001B[41;1m \u001B[0m: : : : |\n",
      "| |\u001B[47m_\u001B[0m:\u001B[43m_\u001B[0m| : |\n",
      "|\u001B[34;1mX\u001B[0m| : |\u001B[35mX\u001B[0m: |\n",
      "+---------+\n",
      "  (Dropoff ,South ,Dropoff)\n",
      "Taxi1: Location: (3,2)\n",
      "Taxi2: Location: (2,0)\n",
      "Taxi3: Location: (3,1)\n",
      "Passenger1: Location: (4, 0), Destination: (0, 0)\n",
      "Passenger2: Location: Taxi2, Destination: (4, 3)\n",
      "+---------+\n",
      "|\u001B[35mX\u001B[0m: | : :X|\n",
      "| : | : : |\n",
      "|\u001B[41m\u001B[34;1m \u001B[0m\u001B[0m: : : : |\n",
      "| |\u001B[47m_\u001B[0m:\u001B[43m_\u001B[0m| : |\n",
      "|\u001B[34;1mX\u001B[0m| : |\u001B[35mX\u001B[0m: |\n",
      "+---------+\n",
      "  (Dropoff ,Dropoff ,Dropoff)\n",
      "Taxi1: Location: (3,2)\n",
      "Taxi2: Location: (2,0)\n",
      "Taxi3: Location: (3,1)\n",
      "Passenger1: Location: (4, 0), Destination: (0, 0)\n",
      "Passenger2: Location: (2, 0), Destination: (4, 3)\n"
     ]
    }
   ],
   "source": [
    "actions = [[5,4,5],[5,0,5],[5,0,5],[5,5,5]]\n",
    "for action in actions:\n",
    "    env.step(action)\n",
    "    env.render()"
   ]
  },
  {
   "cell_type": "markdown",
   "metadata": {
    "colab_type": "text",
    "id": "AGhJdAGpSs9S"
   },
   "source": [
    "We can see that passenger 2's location was taxi 2, and at the end they are at the new location (2,0). Now let's  pick them up with taxi 3."
   ]
  },
  {
   "cell_type": "code",
   "execution_count": 15,
   "metadata": {
    "colab": {
     "base_uri": "https://localhost:8080/",
     "height": 901
    },
    "colab_type": "code",
    "id": "fyF9KOZWSs9T",
    "outputId": "6437b2f7-824a-458b-9136-64610b888d2f"
   },
   "outputs": [
    {
     "name": "stdout",
     "output_type": "stream",
     "text": [
      "+---------+\n",
      "|\u001B[35mX\u001B[0m: | : :X|\n",
      "| : | : : |\n",
      "|\u001B[41m\u001B[34;1m \u001B[0m\u001B[0m:\u001B[47m_\u001B[0m: : : |\n",
      "| | :\u001B[43m_\u001B[0m| : |\n",
      "|\u001B[34;1mX\u001B[0m| : |\u001B[35mX\u001B[0m: |\n",
      "+---------+\n",
      "  (Dropoff ,Dropoff ,North)\n",
      "Taxi1: Location: (3,2)\n",
      "Taxi2: Location: (2,0)\n",
      "Taxi3: Location: (2,1)\n",
      "Passenger1: Location: (4, 0), Destination: (0, 0)\n",
      "Passenger2: Location: (2, 0), Destination: (4, 3)\n",
      "+---------+\n",
      "|\u001B[35mX\u001B[0m: | : :X|\n",
      "| : | : : |\n",
      "|\u001B[47m\u001B[41m\u001B[34;1m \u001B[0m\u001B[0m\u001B[0m: : : : |\n",
      "| | :\u001B[43m_\u001B[0m| : |\n",
      "|\u001B[34;1mX\u001B[0m| : |\u001B[35mX\u001B[0m: |\n",
      "+---------+\n",
      "  (Dropoff ,Dropoff ,West)\n",
      "Taxi1: Location: (3,2)\n",
      "Taxi2: Location: (2,0)\n",
      "Taxi3: Location: (2,0)\n",
      "Passenger1: Location: (4, 0), Destination: (0, 0)\n",
      "Passenger2: Location: (2, 0), Destination: (4, 3)\n",
      "+---------+\n",
      "|\u001B[35mX\u001B[0m: | : :X|\n",
      "| : | : : |\n",
      "|\u001B[41m\u001B[47;1m \u001B[0m\u001B[0m: : : : |\n",
      "| | :\u001B[43m_\u001B[0m| : |\n",
      "|\u001B[34;1mX\u001B[0m| : |\u001B[35mX\u001B[0m: |\n",
      "+---------+\n",
      "  (Dropoff ,Dropoff ,Pickup)\n",
      "Taxi1: Location: (3,2)\n",
      "Taxi2: Location: (2,0)\n",
      "Taxi3: Location: (2,0)\n",
      "Passenger1: Location: (4, 0), Destination: (0, 0)\n",
      "Passenger2: Location: Taxi3, Destination: (4, 3)\n",
      "+---------+\n",
      "|\u001B[35mX\u001B[0m: | : :X|\n",
      "| : | : : |\n",
      "|\u001B[41m_\u001B[0m:\u001B[47;1m \u001B[0m: : : |\n",
      "| | :\u001B[43m_\u001B[0m| : |\n",
      "|\u001B[34;1mX\u001B[0m| : |\u001B[35mX\u001B[0m: |\n",
      "+---------+\n",
      "  (Dropoff ,Dropoff ,East)\n",
      "Taxi1: Location: (3,2)\n",
      "Taxi2: Location: (2,0)\n",
      "Taxi3: Location: (2,1)\n",
      "Passenger1: Location: (4, 0), Destination: (0, 0)\n",
      "Passenger2: Location: Taxi3, Destination: (4, 3)\n"
     ]
    }
   ],
   "source": [
    "actions = [[5,5,1],[5,5,3],[5,5,4],[5,5,2]]\n",
    "for action in actions:\n",
    "    env.step(action)\n",
    "    env.render()"
   ]
  },
  {
   "cell_type": "markdown",
   "metadata": {
    "colab_type": "text",
    "id": "Al-SIkyeSs9V"
   },
   "source": [
    "Now taxi 3 has picked up passenger 2 and can transport them around. This simple example illustrates this new function that wasn't available in the single taxi environment where the taxi could only dropoff at the destination.\n",
    "\n",
    "We can also  choose to input our own custom map as well."
   ]
  },
  {
   "cell_type": "code",
   "execution_count": 16,
   "metadata": {
    "colab": {},
    "colab_type": "code",
    "id": "geKMxsFLSs9W"
   },
   "outputs": [],
   "source": [
    "custom_map = [\n",
    "    '+---------------+',\n",
    "    '| : :X| : : : : |',\n",
    "    '|X: : | : | :X| |',\n",
    "    '| : : : : : : | |',\n",
    "    '| :X: | :X| : :X|',\n",
    "    '+---------------+',\n",
    "]"
   ]
  },
  {
   "cell_type": "code",
   "execution_count": 17,
   "metadata": {
    "colab": {
     "base_uri": "https://localhost:8080/",
     "height": 170
    },
    "colab_type": "code",
    "id": "3aZXR86TSs9Y",
    "outputId": "fc869250-957d-45e6-e039-7a3ef4115468"
   },
   "outputs": [
    {
     "name": "stdout",
     "output_type": "stream",
     "text": [
      "+---------------+\n",
      "| : :X| : : : : |\n",
      "|X: : | : | :X| |\n",
      "| : :\u001B[43m_\u001B[0m: : : : | |\n",
      "| :\u001B[34;1mX\u001B[0m: | :\u001B[35mX\u001B[0m| : :\u001B[41mX\u001B[0m|\n",
      "+---------------+\n",
      "Taxi1: Location: (2,2)\n",
      "Taxi2: Location: (3,7)\n",
      "Passenger1: Location: (3, 1), Destination: (3, 4)\n"
     ]
    }
   ],
   "source": [
    "env = MultiTaxiEnv(map=custom_map)\n",
    "env.reset()\n",
    "env.render()"
   ]
  },
  {
   "cell_type": "markdown",
   "metadata": {
    "colab_type": "text",
    "id": "HtRc_ObLSs9a"
   },
   "source": [
    "Below we will explore the most interesting environment."
   ]
  },
  {
   "cell_type": "markdown",
   "metadata": {
    "colab_type": "text",
    "id": "AEaxYxvwSs9b"
   },
   "source": [
    "### Multiple taxi with fuel"
   ]
  },
  {
   "cell_type": "markdown",
   "metadata": {
    "colab_type": "text",
    "id": "CXVStaSySs9b"
   },
   "source": [
    "The most complex environment is the multiple taxi with fuel environment. This environment supports an arbitrary number of taxis with fuel and an arbitrary number of passengers. By default, the environment is initialized with two taxis, one passenger, and the maximum (and starting) fuel of each taxi is 8. However, we are able to change all of those parameters like above. This is essentially just the MultiTaxi environment with fuel constraints, so we are still able to dropoff passengers anywhere."
   ]
  },
  {
   "cell_type": "code",
   "execution_count": 18,
   "metadata": {
    "colab": {
     "base_uri": "https://localhost:8080/",
     "height": 204
    },
    "colab_type": "code",
    "id": "vArc7nfESs9c",
    "outputId": "737ed809-78a1-4958-88ea-d9c43209b1a3",
    "scrolled": true
   },
   "outputs": [
    {
     "name": "stdout",
     "output_type": "stream",
     "text": [
      "+---------+\n",
      "|\u001B[43mX\u001B[0m: |F: :\u001B[34;1mX\u001B[0m|\n",
      "| : | : : |\n",
      "| : : : : |\n",
      "| | : | :\u001B[41m_\u001B[0m|\n",
      "|\u001B[34;1mX\u001B[0m| :G|\u001B[35m\u001B[35mX\u001B[0m\u001B[0m: |\n",
      "+---------+\n",
      "Taxi1: Fuel: 8, Location: (0,0)\n",
      "Taxi2: Fuel: 8, Location: (3,4)\n",
      "Passenger1: Location: (4, 0), Destination: (4, 3)\n",
      "Passenger2: Location: (0, 4), Destination: (4, 3)\n"
     ]
    }
   ],
   "source": [
    "env = MultiTaxiFuelEnv(num_taxis=2, num_passengers=2, max_fuel=8)\n",
    "env.reset()\n",
    "env.render()"
   ]
  },
  {
   "cell_type": "markdown",
   "metadata": {
    "colab_type": "text",
    "id": "BvOu59wnSs9e"
   },
   "source": [
    "Initializing the environment, we have the location and fuel values for each of the passneger, as well as the location and destination values for each passenger. In the multiple passenger enviroment, the episode does not end until each passenger is delivered to their destination.\n",
    "\n",
    "Each state is recorded as a list of lists like the MultiTaxi environment:\n",
    "1. a list of locations of each taxi, formatted [row, col]\n",
    "2. a list of integers specifying fuel levels for each taxi\n",
    "2. a list of passenger starting locations as coordinates\n",
    "3. a list of passenger destinations as coordinates\n",
    "4. a list of current passenger locations as integers, 0 means not picked up, -1 means reached destination, and positive number specifies which taxi they are in"
   ]
  },
  {
   "cell_type": "code",
   "execution_count": 19,
   "metadata": {
    "colab": {
     "base_uri": "https://localhost:8080/",
     "height": 34
    },
    "colab_type": "code",
    "id": "Vcnv2t6YSs9e",
    "outputId": "095fb0da-d6cd-4130-d616-40080ef92e94"
   },
   "outputs": [
    {
     "name": "stdout",
     "output_type": "stream",
     "text": [
      "[[[0, 0], [3, 4]], [8, 8], [[4, 0], [0, 4]], [[4, 3], [4, 3]], [0, 0]]\n"
     ]
    }
   ],
   "source": [
    "print(env.state)"
   ]
  },
  {
   "cell_type": "markdown",
   "metadata": {
    "colab_type": "text",
    "id": "BHZEd9SeSs9h"
   },
   "source": [
    "Like the MultiTaxi environment, actions are now lists of individual actions,  and the actions for each individual taxi are the same as in the original one taxi fuel enviroment (8 poassible actions). For example, suppose that I wish for taxi 1 to go north (action 1) and for taxi 2 to go south (action 0)."
   ]
  },
  {
   "cell_type": "code",
   "execution_count": 20,
   "metadata": {
    "colab": {
     "base_uri": "https://localhost:8080/",
     "height": 238
    },
    "colab_type": "code",
    "id": "kP-R6srUSs9h",
    "outputId": "1fb1422f-3365-40a3-c8ae-3c271078f949"
   },
   "outputs": [
    {
     "name": "stdout",
     "output_type": "stream",
     "text": [
      "Now the reward is given as the reward for each individual taxi: [-20, -1]\n",
      "+---------+\n",
      "|\u001B[43mX\u001B[0m: |F: :\u001B[34;1mX\u001B[0m|\n",
      "| : | : : |\n",
      "| : : : : |\n",
      "| | : | : |\n",
      "|\u001B[34;1mX\u001B[0m| :G|\u001B[35m\u001B[35mX\u001B[0m\u001B[0m:\u001B[41m_\u001B[0m|\n",
      "+---------+\n",
      "  (North ,South)\n",
      "Taxi1: Fuel: 8, Location: (0,0)\n",
      "Taxi2: Fuel: 7, Location: (4,4)\n",
      "Passenger1: Location: (4, 0), Destination: (4, 3)\n",
      "Passenger2: Location: (0, 4), Destination: (4, 3)\n"
     ]
    }
   ],
   "source": [
    "state, reward, done, _ = env.step([1,0])\n",
    "print(\"Now the reward is given as the reward for each individual taxi: \" + str(reward))\n",
    "\n",
    "env.render()"
   ]
  },
  {
   "cell_type": "markdown",
   "metadata": {
    "colab_type": "text",
    "id": "SR7Ls_EOSs9k"
   },
   "source": [
    "Now, we will try a random solution, and see how long it takes to finish an episode. In particular, at every time step, each of the taxis will choose a random action. We can easily do this using the env.action_space.sample() function, which returns a random sample of the action space corresponding to a random action by each taxi."
   ]
  },
  {
   "cell_type": "code",
   "execution_count": 21,
   "metadata": {
    "colab": {
     "base_uri": "https://localhost:8080/",
     "height": 51
    },
    "colab_type": "code",
    "id": "ig-vz5T_Ss9l",
    "outputId": "2e124262-db63-47b2-862d-edd433bd4d9c"
   },
   "outputs": [
    {
     "name": "stdout",
     "output_type": "stream",
     "text": [
      "Timesteps taken: 16855\n",
      "Penalties incurred: 15645\n"
     ]
    }
   ],
   "source": [
    "env.reset()\n",
    "epochs = 0\n",
    "penalties, reward = 0, 0\n",
    "\n",
    "frames = [] # for animation\n",
    "\n",
    "done = False\n",
    "\n",
    "while not done:\n",
    "    action = env.action_space.sample()\n",
    "    state, reward, done, info = env.step(action)\n",
    "\n",
    "    if reward[0] == -10 or reward[1] == -10:\n",
    "        penalties += 1\n",
    "    \n",
    "    # Put each rendered frame into dict for animation\n",
    "    frames.append({\n",
    "        'frame': env.render(mode='ansi'),\n",
    "        'state': state,\n",
    "        'action': action,\n",
    "        'reward': reward\n",
    "        }\n",
    "    )\n",
    "\n",
    "    epochs += 1\n",
    "    \n",
    "    \n",
    "print(\"Timesteps taken: {}\".format(epochs))\n",
    "print(\"Penalties incurred: {}\".format(penalties))"
   ]
  },
  {
   "cell_type": "markdown",
   "metadata": {
    "colab_type": "text",
    "id": "9phe_7LCSs9n"
   },
   "source": [
    "Here, as we have seen, the episode takes a very long time to finish, and the taxis incur many penalties, meaning that they have tried many invalid moves. We can see this in action by replaying the frames of that episode."
   ]
  },
  {
   "cell_type": "code",
   "execution_count": null,
   "metadata": {
    "colab": {
     "base_uri": "https://localhost:8080/",
     "height": 306
    },
    "colab_type": "code",
    "id": "8CJERgbcSs9n",
    "outputId": "2e09cad0-e49e-4b0d-f653-0a1dd41cf4b5"
   },
   "outputs": [
    {
     "name": "stdout",
     "output_type": "stream",
     "text": [
      "+---------+\n",
      "|X: |\u001B[34;1mF\u001B[0m: :\u001B[43mX\u001B[0m|\n",
      "| : | : :\u001B[41m_\u001B[0m|\n",
      "| :\u001B[34;1m \u001B[0m: : : |\n",
      "| | : | : |\n",
      "|\u001B[35mX\u001B[0m| :G|\u001B[35mX\u001B[0m: |\n",
      "+---------+\n",
      "  (East ,North)\n",
      "Taxi1: Fuel: 0, Location: (0,4)\n",
      "Taxi2: Fuel: 0, Location: (1,4)\n",
      "Passenger1: Location: (0, 2), Destination: (4, 0)\n",
      "Passenger2: Location: (2, 1), Destination: (4, 3)\n",
      "\n",
      "Timestep: 3885\n",
      "State: [[[3, 3], [4, 3]], [0, 0], [[2, 1], [3, 3]], [[4, 0], [4, 3]], [-1, -1]]\n",
      "Action: [2 1]\n",
      "Reward: [-20, -10]\n"
     ]
    }
   ],
   "source": [
    "from IPython.display import clear_output\n",
    "from time import sleep\n",
    "\n",
    "def print_frames(frames):\n",
    "    for i, frame in enumerate(frames):\n",
    "        clear_output(wait=True)\n",
    "        print(frame['frame'])\n",
    "        print(f\"Timestep: {i + 1}\")\n",
    "        print(f\"State: {frame['state']}\")\n",
    "        print(f\"Action: {frame['action']}\")\n",
    "        print(f\"Reward: {frame['reward']}\")\n",
    "        sleep(.1)\n",
    "        \n",
    "print_frames(frames)"
   ]
  },
  {
   "cell_type": "code",
   "execution_count": null,
   "metadata": {
    "colab": {},
    "colab_type": "code",
    "id": "i9w9UTr0VEEK"
   },
   "outputs": [],
   "source": []
  }
 ],
 "metadata": {
  "colab": {
   "collapsed_sections": [],
   "name": "Taxi Environment Demonstration.ipynb",
   "provenance": []
  },
  "kernelspec": {
   "display_name": "Python 3",
   "language": "python",
   "name": "python3"
  },
  "language_info": {
   "codemirror_mode": {
    "name": "ipython",
    "version": 3
   },
   "file_extension": ".py",
   "mimetype": "text/x-python",
   "name": "python",
   "nbconvert_exporter": "python",
   "pygments_lexer": "ipython3",
   "version": "3.6.9"
  }
 },
 "nbformat": 4,
 "nbformat_minor": 1
}