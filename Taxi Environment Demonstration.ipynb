{
 "cells": [
  {
   "cell_type": "markdown",
   "metadata": {},
   "source": [
    "## Variations on the Taxi-Grid Enviroment"
   ]
  },
  {
   "cell_type": "markdown",
   "metadata": {},
   "source": [
    "### Single Taxi With Fuel"
   ]
  },
  {
   "cell_type": "markdown",
   "metadata": {},
   "source": [
    "First, we will demonstrate the most basic enviroment - one taxi with fuel. "
   ]
  },
  {
   "cell_type": "code",
   "execution_count": 2,
   "metadata": {},
   "outputs": [],
   "source": [
    "from onetaxifuel_env import OneTaxiFuelEnv"
   ]
  },
  {
   "cell_type": "code",
   "execution_count": 14,
   "metadata": {
    "scrolled": true
   },
   "outputs": [
    {
     "name": "stdout",
     "output_type": "stream",
     "text": [
      "+---------+\n",
      "|X: |F: :\u001b[43mX\u001b[0m|\n",
      "| : | : : |\n",
      "| : : : : |\n",
      "| | : | : |\n",
      "|\u001b[35mX\u001b[0m| : |\u001b[34;1mX\u001b[0m: |\n",
      "+---------+\n",
      "Fuel: 10\n",
      "\n"
     ]
    }
   ],
   "source": [
    "env = OneTaxiFuelEnv()\n",
    "env.reset()\n",
    "env.render()"
   ]
  },
  {
   "cell_type": "markdown",
   "metadata": {},
   "source": [
    "TaxiFuelEnv is an enviroment where there is one taxi. The taxi is represented by the yellow highlighted block. The objective of the taxi in this enviroment is to move the passenger from the blue X to the magenta X. The action space of the taxi is (0,1,2,3,4,5,6), where 0,1,2,3 are move south, north, east, west respectively, 4 is pickup passenger, 5 is dropoff passenger, and 6 is refuel."
   ]
  },
  {
   "cell_type": "code",
   "execution_count": 12,
   "metadata": {},
   "outputs": [
    {
     "name": "stdout",
     "output_type": "stream",
     "text": [
      "The next state is: 2782, the reward for the last action is: -10, and the episode is not done.\n"
     ]
    }
   ],
   "source": [
    "state, reward, done, _ = env.step(6)\n",
    "print(\"The next state is: \" + str(state) + \", the reward for the last action is: \" + str(reward) + \", and the episode is \"+ {True: \"\", False: \"not\"}[done]  + \" done.\")"
   ]
  },
  {
   "cell_type": "markdown",
   "metadata": {},
   "source": [
    "To preform an action, we use the step function. This returns a tuple which includes the next state, the reward, whetheer the episode has ended or not, and debugging info which we don't need to worry abouot for our purposes. In this environment, the episode ends when the passenger is dropped off successfully. The reward for each step is -1, unless there is an illegal pickup, dropoff, or refuel whch yields reward of -10, and a successful dropoff gives reward +20. Taxis can only dropoff passengers at their final destination and nowhere else. \n",
    "\n",
    "Now, we will navigate to the fuel station by moving west twice. "
   ]
  },
  {
   "cell_type": "code",
   "execution_count": 15,
   "metadata": {},
   "outputs": [
    {
     "name": "stdout",
     "output_type": "stream",
     "text": [
      "+---------+\n",
      "|X: |F:\u001b[43m \u001b[0m:X|\n",
      "| : | : : |\n",
      "| : : : : |\n",
      "| | : | : |\n",
      "|\u001b[35mX\u001b[0m| : |\u001b[34;1mX\u001b[0m: |\n",
      "+---------+\n",
      "Fuel: 9\n",
      "  (West)\n",
      "+---------+\n",
      "|X: |\u001b[43mF\u001b[0m: :X|\n",
      "| : | : : |\n",
      "| : : : : |\n",
      "| | : | : |\n",
      "|\u001b[35mX\u001b[0m| : |\u001b[34;1mX\u001b[0m: |\n",
      "+---------+\n",
      "Fuel: 8\n",
      "  (West)\n"
     ]
    }
   ],
   "source": [
    "env.step(3)\n",
    "env.render()\n",
    "env.step(3)\n",
    "env.render()"
   ]
  },
  {
   "cell_type": "markdown",
   "metadata": {},
   "source": [
    "Here, note that since we have moved two steps, we have consumed two units of fuel. There is a large penalty for moving when the taxi does not have fuel. We will now refuel. "
   ]
  },
  {
   "cell_type": "code",
   "execution_count": 16,
   "metadata": {},
   "outputs": [
    {
     "name": "stdout",
     "output_type": "stream",
     "text": [
      "+---------+\n",
      "|X: |\u001b[43mF\u001b[0m: :X|\n",
      "| : | : : |\n",
      "| : : : : |\n",
      "| | : | : |\n",
      "|\u001b[35mX\u001b[0m| : |\u001b[34;1mX\u001b[0m: |\n",
      "+---------+\n",
      "Fuel: 10\n",
      "  (Refill)\n"
     ]
    }
   ],
   "source": [
    "state, reward, done, _ = env.step(6)\n",
    "env.render()"
   ]
  },
  {
   "cell_type": "markdown",
   "metadata": {},
   "source": [
    "Here, since we have refuelled, we are back at full. Another thing to note is that the state of the environment is encoded using a single number that represents the state. However, sometimes it may be useful to decode what that number actually means (for example, when using deep-Q learning). We can do that using the decode function. "
   ]
  },
  {
   "cell_type": "code",
   "execution_count": 17,
   "metadata": {},
   "outputs": [
    {
     "name": "stdout",
     "output_type": "stream",
     "text": [
      "The coordinates of the taxi are currently: (0,2)\n",
      "The index of the passenger location is: 3, while the index of the passenger destination is: 2\n",
      "Currently, the fuel level of the taxi is: 10\n"
     ]
    }
   ],
   "source": [
    "x, y, pass_loc, pass_dest, fuel = list(env.decode(state))\n",
    "print(\"The coordinates of the taxi are currently: \" + \"(\" + str(x) + \",\" + str(y) +\")\")\n",
    "print(\"The index of the passenger location is: \" + str(pass_loc) + \", while the index of the passenger destination is: \" + str(pass_dest))\n",
    "print(\"Currently, the fuel level of the taxi is: \" + str(fuel))"
   ]
  },
  {
   "cell_type": "markdown",
   "metadata": {},
   "source": [
    "You can also input your own map as a list of strings and specify the maximum fuel. The map must be formatted in the same way as above, with '+'at the corners and '-', '|' specifying the boundaries. You can have as many destination and fuel stations as you want!"
   ]
  },
  {
   "cell_type": "code",
   "execution_count": 3,
   "metadata": {},
   "outputs": [],
   "source": [
    "custom_map = [\n",
    "    '+---------------+',\n",
    "    '| : :X| :F: : : |',\n",
    "    '|X: : | : | :X| |',\n",
    "    '| : : : : : : | |',\n",
    "    '| :X:F| :X| : :X|',\n",
    "    '+---------------+',\n",
    "]"
   ]
  },
  {
   "cell_type": "code",
   "execution_count": 4,
   "metadata": {},
   "outputs": [
    {
     "name": "stdout",
     "output_type": "stream",
     "text": [
      "+---------------+\n",
      "| : :X| :F: : : |\n",
      "|X: : | : | :X| |\n",
      "| : : : : : : |\u001b[43m \u001b[0m|\n",
      "| :\u001b[34;1mX\u001b[0m:F| :\u001b[35mX\u001b[0m| : :X|\n",
      "+---------------+\n",
      "Fuel: 6\n",
      "\n"
     ]
    }
   ],
   "source": [
    "env = OneTaxiFuelEnv(max_fuel=6, map=custom_map)\n",
    "env.reset()\n",
    "env.render()"
   ]
  },
  {
   "cell_type": "markdown",
   "metadata": {},
   "source": [
    "This concludes the demonstration for the single taxi with fuel environment."
   ]
  },
  {
   "cell_type": "markdown",
   "metadata": {},
   "source": [
    "### Multiple taxis without fuel"
   ]
  },
  {
   "cell_type": "markdown",
   "metadata": {},
   "source": [
    "This environment supports having multiple taxis and multiple passengers which you can specify when initializing. The default initialization is two taxis and one passenger. The goal is to deliver all passengers to their destinations. Each taxi can only carry one passenger at a time, but can dropoff passengers anywhere. "
   ]
  },
  {
   "cell_type": "code",
   "execution_count": 5,
   "metadata": {},
   "outputs": [],
   "source": [
    "from multitaxi_env import MultiTaxiEnv"
   ]
  },
  {
   "cell_type": "code",
   "execution_count": 19,
   "metadata": {},
   "outputs": [
    {
     "name": "stdout",
     "output_type": "stream",
     "text": [
      "+---------+\n",
      "|\u001b[35m\u001b[34;1mX\u001b[0m\u001b[0m:\u001b[41m_\u001b[0m| : :X|\n",
      "| : | : : |\n",
      "| :\u001b[47m_\u001b[0m:\u001b[43m_\u001b[0m: : |\n",
      "| | : | : |\n",
      "|\u001b[34;1mX\u001b[0m| : |\u001b[35mX\u001b[0m: |\n",
      "+---------+\n",
      "Taxi1: Location: (2,2)\n",
      "Taxi2: Location: (0,1)\n",
      "Taxi3: Location: (2,1)\n",
      "Passenger1: Location: (4, 0), Destination: (0, 0)\n",
      "Passenger2: Location: (0, 0), Destination: (4, 3)\n"
     ]
    }
   ],
   "source": [
    "env = MultiTaxiEnv(num_taxis=3, num_passengers=2)\n",
    "env.reset()\n",
    "env.render()"
   ]
  },
  {
   "cell_type": "markdown",
   "metadata": {},
   "source": [
    "Each state is recorded as a list of lists:\n",
    "1. a list of locations of each taxi, formatted [row, col]\n",
    "2. a list of passenger starting locations as coordinates\n",
    "3. a list of passenger destinations as coordinates\n",
    "4. a list of current passenger locations as integers, 0 means not picked up, -1 means reached destination, and positive number specifies which taxi they are in\n",
    "\n",
    "The i'th observation in each of the relevant passenger lists correspond to the same passenger. \n",
    "\n"
   ]
  },
  {
   "cell_type": "code",
   "execution_count": 20,
   "metadata": {},
   "outputs": [
    {
     "name": "stdout",
     "output_type": "stream",
     "text": [
      "[[[2, 2], [0, 1], [2, 1]], [[4, 0], [0, 0]], [[0, 0], [4, 3]], [0, 0]]\n"
     ]
    }
   ],
   "source": [
    "print(env.state)"
   ]
  },
  {
   "cell_type": "markdown",
   "metadata": {},
   "source": [
    "Actions are inputted as list of actions corresponding to each taxi. Each taxi has the same actions as in the above environment with only one taxi except for refueling. Thus the action space of the taxi is (0,1,2,3,4,5), where 0,1,2,3 are move south, north, east, west respecitvely, 4 is pickup passenger, and 5 is dropoff passenger.\n",
    "\n",
    "Let's move taxis 1 and 3 south, and taxi 2 west. "
   ]
  },
  {
   "cell_type": "code",
   "execution_count": 21,
   "metadata": {},
   "outputs": [
    {
     "name": "stdout",
     "output_type": "stream",
     "text": [
      "Now the reward is given as the reward for each individual taxi: [-1, -1, -1]\n",
      "+---------+\n",
      "|\u001b[35m\u001b[41m\u001b[34;1mX\u001b[0m\u001b[0m\u001b[0m: | : :X|\n",
      "| : | : : |\n",
      "| : : : : |\n",
      "| |\u001b[47m_\u001b[0m:\u001b[43m_\u001b[0m| : |\n",
      "|\u001b[34;1mX\u001b[0m| : |\u001b[35mX\u001b[0m: |\n",
      "+---------+\n",
      "  (South ,West ,South)\n",
      "Taxi1: Location: (3,2)\n",
      "Taxi2: Location: (0,0)\n",
      "Taxi3: Location: (3,1)\n",
      "Passenger1: Location: (4, 0), Destination: (0, 0)\n",
      "Passenger2: Location: (0, 0), Destination: (4, 3)\n"
     ]
    }
   ],
   "source": [
    "state, reward, done, _ = env.step([0,3,0])\n",
    "print(\"Now the reward is given as the reward for each individual taxi: \" + str(reward))\n",
    "\n",
    "env.render()"
   ]
  },
  {
   "cell_type": "markdown",
   "metadata": {},
   "source": [
    "To demonstrate the ability to dropoff passengers anywhere, we will pickup passenger 2 with taxi 2 while telling other taxis to dropoff. Then we will move taxi 2 south twice and dropoff. "
   ]
  },
  {
   "cell_type": "code",
   "execution_count": 22,
   "metadata": {},
   "outputs": [
    {
     "name": "stdout",
     "output_type": "stream",
     "text": [
      "+---------+\n",
      "|\u001b[35m\u001b[41;1mX\u001b[0m\u001b[0m: | : :X|\n",
      "| : | : : |\n",
      "| : : : : |\n",
      "| |\u001b[47m_\u001b[0m:\u001b[43m_\u001b[0m| : |\n",
      "|\u001b[34;1mX\u001b[0m| : |\u001b[35mX\u001b[0m: |\n",
      "+---------+\n",
      "  (Dropoff ,Pickup ,Dropoff)\n",
      "Taxi1: Location: (3,2)\n",
      "Taxi2: Location: (0,0)\n",
      "Taxi3: Location: (3,1)\n",
      "Passenger1: Location: (4, 0), Destination: (0, 0)\n",
      "Passenger2: Location: Taxi2, Destination: (4, 3)\n",
      "+---------+\n",
      "|\u001b[35mX\u001b[0m: | : :X|\n",
      "|\u001b[41;1m \u001b[0m: | : : |\n",
      "| : : : : |\n",
      "| |\u001b[47m_\u001b[0m:\u001b[43m_\u001b[0m| : |\n",
      "|\u001b[34;1mX\u001b[0m| : |\u001b[35mX\u001b[0m: |\n",
      "+---------+\n",
      "  (Dropoff ,South ,Dropoff)\n",
      "Taxi1: Location: (3,2)\n",
      "Taxi2: Location: (1,0)\n",
      "Taxi3: Location: (3,1)\n",
      "Passenger1: Location: (4, 0), Destination: (0, 0)\n",
      "Passenger2: Location: Taxi2, Destination: (4, 3)\n",
      "+---------+\n",
      "|\u001b[35mX\u001b[0m: | : :X|\n",
      "| : | : : |\n",
      "|\u001b[41;1m \u001b[0m: : : : |\n",
      "| |\u001b[47m_\u001b[0m:\u001b[43m_\u001b[0m| : |\n",
      "|\u001b[34;1mX\u001b[0m| : |\u001b[35mX\u001b[0m: |\n",
      "+---------+\n",
      "  (Dropoff ,South ,Dropoff)\n",
      "Taxi1: Location: (3,2)\n",
      "Taxi2: Location: (2,0)\n",
      "Taxi3: Location: (3,1)\n",
      "Passenger1: Location: (4, 0), Destination: (0, 0)\n",
      "Passenger2: Location: Taxi2, Destination: (4, 3)\n",
      "+---------+\n",
      "|\u001b[35mX\u001b[0m: | : :X|\n",
      "| : | : : |\n",
      "|\u001b[41m\u001b[34;1m \u001b[0m\u001b[0m: : : : |\n",
      "| |\u001b[47m_\u001b[0m:\u001b[43m_\u001b[0m| : |\n",
      "|\u001b[34;1mX\u001b[0m| : |\u001b[35mX\u001b[0m: |\n",
      "+---------+\n",
      "  (Dropoff ,Dropoff ,Dropoff)\n",
      "Taxi1: Location: (3,2)\n",
      "Taxi2: Location: (2,0)\n",
      "Taxi3: Location: (3,1)\n",
      "Passenger1: Location: (4, 0), Destination: (0, 0)\n",
      "Passenger2: Location: (2, 0), Destination: (4, 3)\n"
     ]
    }
   ],
   "source": [
    "actions = [[5,4,5],[5,0,5],[5,0,5],[5,5,5]]\n",
    "for action in actions:\n",
    "    env.step(action)\n",
    "    env.render()"
   ]
  },
  {
   "cell_type": "markdown",
   "metadata": {},
   "source": [
    "We can see that passenger 2's location was taxi 2, and at the end they are at the new location (2,0). Now let's  pick them up with taxi 3."
   ]
  },
  {
   "cell_type": "code",
   "execution_count": 24,
   "metadata": {},
   "outputs": [
    {
     "name": "stdout",
     "output_type": "stream",
     "text": [
      "+---------+\n",
      "|\u001b[35mX\u001b[0m: | : :X|\n",
      "| : | : : |\n",
      "|\u001b[41m\u001b[34;1m \u001b[0m\u001b[0m:\u001b[47m_\u001b[0m: : : |\n",
      "| | :\u001b[43m_\u001b[0m| : |\n",
      "|\u001b[34;1mX\u001b[0m| : |\u001b[35mX\u001b[0m: |\n",
      "+---------+\n",
      "  (Dropoff ,Dropoff ,North)\n",
      "Taxi1: Location: (3,2)\n",
      "Taxi2: Location: (2,0)\n",
      "Taxi3: Location: (2,1)\n",
      "Passenger1: Location: (4, 0), Destination: (0, 0)\n",
      "Passenger2: Location: (2, 0), Destination: (4, 3)\n",
      "+---------+\n",
      "|\u001b[35mX\u001b[0m: | : :X|\n",
      "| : | : : |\n",
      "|\u001b[47m\u001b[41m\u001b[34;1m \u001b[0m\u001b[0m\u001b[0m: : : : |\n",
      "| | :\u001b[43m_\u001b[0m| : |\n",
      "|\u001b[34;1mX\u001b[0m| : |\u001b[35mX\u001b[0m: |\n",
      "+---------+\n",
      "  (Dropoff ,Dropoff ,West)\n",
      "Taxi1: Location: (3,2)\n",
      "Taxi2: Location: (2,0)\n",
      "Taxi3: Location: (2,0)\n",
      "Passenger1: Location: (4, 0), Destination: (0, 0)\n",
      "Passenger2: Location: (2, 0), Destination: (4, 3)\n",
      "+---------+\n",
      "|\u001b[35mX\u001b[0m: | : :X|\n",
      "| : | : : |\n",
      "|\u001b[41m\u001b[47;1m \u001b[0m\u001b[0m: : : : |\n",
      "| | :\u001b[43m_\u001b[0m| : |\n",
      "|\u001b[34;1mX\u001b[0m| : |\u001b[35mX\u001b[0m: |\n",
      "+---------+\n",
      "  (Dropoff ,Dropoff ,Pickup)\n",
      "Taxi1: Location: (3,2)\n",
      "Taxi2: Location: (2,0)\n",
      "Taxi3: Location: (2,0)\n",
      "Passenger1: Location: (4, 0), Destination: (0, 0)\n",
      "Passenger2: Location: Taxi3, Destination: (4, 3)\n",
      "+---------+\n",
      "|\u001b[35mX\u001b[0m: | : :X|\n",
      "| : | : : |\n",
      "|\u001b[41m_\u001b[0m:\u001b[47;1m \u001b[0m: : : |\n",
      "| | :\u001b[43m_\u001b[0m| : |\n",
      "|\u001b[34;1mX\u001b[0m| : |\u001b[35mX\u001b[0m: |\n",
      "+---------+\n",
      "  (Dropoff ,Dropoff ,East)\n",
      "Taxi1: Location: (3,2)\n",
      "Taxi2: Location: (2,0)\n",
      "Taxi3: Location: (2,1)\n",
      "Passenger1: Location: (4, 0), Destination: (0, 0)\n",
      "Passenger2: Location: Taxi3, Destination: (4, 3)\n"
     ]
    }
   ],
   "source": [
    "actions = [[5,5,1],[5,5,3],[5,5,4],[5,5,2]]\n",
    "for action in actions:\n",
    "    env.step(action)\n",
    "    env.render()"
   ]
  },
  {
   "cell_type": "markdown",
   "metadata": {},
   "source": [
    "Now taxi 3 has picked up passenger 2 and can transport them around. This simple example illustrates this new function that wasn't available in the single taxi environment where the taxi could only dropoff at the destination. \n",
    "\n",
    "We can also  choose to input our own custom map as well."
   ]
  },
  {
   "cell_type": "code",
   "execution_count": 11,
   "metadata": {},
   "outputs": [],
   "source": [
    "custom_map = [\n",
    "    '+---------------+',\n",
    "    '| : :X| : : : : |',\n",
    "    '|X: : | : | :X| |',\n",
    "    '| : : : : : : | |',\n",
    "    '| :X: | :X| : :X|',\n",
    "    '+---------------+',\n",
    "]"
   ]
  },
  {
   "cell_type": "code",
   "execution_count": 12,
   "metadata": {},
   "outputs": [
    {
     "name": "stdout",
     "output_type": "stream",
     "text": [
      "+---------------+\n",
      "| :\u001b[41m_\u001b[0m:X| : : : : |\n",
      "|X:\u001b[43m_\u001b[0m: | : | :\u001b[34;1mX\u001b[0m| |\n",
      "| : : : : : : | |\n",
      "| :\u001b[35mX\u001b[0m: | :X| : :X|\n",
      "+---------------+\n",
      "Taxi1: Location: (1,1)\n",
      "Taxi2: Location: (0,1)\n",
      "Passenger1: Location: (1, 6), Destination: (3, 1)\n"
     ]
    }
   ],
   "source": [
    "env = MultiTaxiEnv(map=custom_map)\n",
    "env.reset()\n",
    "env.render()"
   ]
  },
  {
   "cell_type": "markdown",
   "metadata": {},
   "source": [
    "Below we will explore the most interesting environment. "
   ]
  },
  {
   "cell_type": "markdown",
   "metadata": {},
   "source": [
    "### Multiple taxi with fuel"
   ]
  },
  {
   "cell_type": "markdown",
   "metadata": {},
   "source": [
    "The most sophisticated environment is the multiple taxi with fuel environment. This environment supports an arbitrary number of taxis with fuel and an arbitrary number of passengers. By default, the environment is initialized with two taxis, one passenger, and the maximum (and starting) fuel of each taxi is 8. However, we are able to change all of those parameters like above. This is essentially just the MultiTaxi environment with fuel constraints, so we are still able to dropoff passengers anywhere. "
   ]
  },
  {
   "cell_type": "code",
   "execution_count": 67,
   "metadata": {},
   "outputs": [
    {
     "name": "stdout",
     "output_type": "stream",
     "text": [
      "+---------+\n",
      "|X: |F: :\u001b[35mX\u001b[0m|\n",
      "| :\u001b[43m_\u001b[0m| : : |\n",
      "| : : : : |\n",
      "| | :\u001b[41m_\u001b[0m| : |\n",
      "|\u001b[34;1mX\u001b[0m| :G|\u001b[35m\u001b[34;1mX\u001b[0m\u001b[0m: |\n",
      "+---------+\n",
      "Taxi1: Fuel: 8, Location: (1,1)\n",
      "Taxi2: Fuel: 8, Location: (3,2)\n",
      "Passenger1: Location: (4, 3), Destination: (0, 4)\n",
      "Passenger2: Location: (4, 0), Destination: (4, 3)\n"
     ]
    }
   ],
   "source": [
    "from multitaxifuel_env import MultiTaxiFuelEnv\n",
    "env = MultiTaxiFuelEnv(num_taxis=2, num_passengers=2, max_fuel=8)\n",
    "env.reset()\n",
    "env.render()"
   ]
  },
  {
   "cell_type": "markdown",
   "metadata": {},
   "source": [
    "Initializing the environment, we have the location and fuel values for each of the passneger, as well as the location and destination values for each passenger. In the multiple passenger enviroment, the episode does not end until each passenger is delivered to their destination.\n",
    "\n",
    "Each state is recorded as a list of lists like the MultiTaxi environment:\n",
    "1. a list of locations of each taxi, formatted [row, col]\n",
    "2. a list of integers specifying fuel levels for each taxi\n",
    "2. a list of passenger starting locations as coordinates\n",
    "3. a list of passenger destinations as coordinates\n",
    "4. a list of current passenger locations as integers, 0 means not picked up, -1 means reached destination, and positive number specifies which taxi they are in"
   ]
  },
  {
   "cell_type": "code",
   "execution_count": 68,
   "metadata": {},
   "outputs": [
    {
     "name": "stdout",
     "output_type": "stream",
     "text": [
      "[[[1, 1], [3, 2]], [8, 8], [[4, 3], [4, 0]], [[0, 4], [4, 3]], [0, 0]]\n"
     ]
    }
   ],
   "source": [
    "print(env.state)"
   ]
  },
  {
   "cell_type": "markdown",
   "metadata": {},
   "source": [
    "Like the MultiTaxi environment, actions are now lists of individual actions,  and the actions for each individual taxi are the same as in the original one taxi fuel enviroment (7 poassible actions). For example, suppose that I wish for taxi 1 to go north (action 1) and for taxi 2 to go south (action 0). "
   ]
  },
  {
   "cell_type": "code",
   "execution_count": 69,
   "metadata": {},
   "outputs": [
    {
     "name": "stdout",
     "output_type": "stream",
     "text": [
      "Now the reward is given as the reward for each individual taxi: [-1, -1]\n",
      "+---------+\n",
      "|X:\u001b[43m_\u001b[0m|F: :\u001b[35mX\u001b[0m|\n",
      "| : | : : |\n",
      "| : : : : |\n",
      "| | : | : |\n",
      "|\u001b[34;1mX\u001b[0m| :\u001b[41mG\u001b[0m|\u001b[35m\u001b[34;1mX\u001b[0m\u001b[0m: |\n",
      "+---------+\n",
      "  (North ,South)\n",
      "Taxi1: Fuel: 7, Location: (0,1)\n",
      "Taxi2: Fuel: 7, Location: (4,2)\n",
      "Passenger1: Location: (4, 3), Destination: (0, 4)\n",
      "Passenger2: Location: (4, 0), Destination: (4, 3)\n"
     ]
    }
   ],
   "source": [
    "state, reward, done, _ = env.step([1,0])\n",
    "print(\"Now the reward is given as the reward for each individual taxi: \" + str(reward))\n",
    "\n",
    "env.render()"
   ]
  },
  {
   "cell_type": "markdown",
   "metadata": {},
   "source": [
    "Now, we will try a random solution, and see how long it takes to finish an episode. In particular, at every time step, each of the taxis will choose a random action. We can easily do this using the env.action_space.sample() function, which returns a random sample of the action space corresponding to a random action by each taxi."
   ]
  },
  {
   "cell_type": "code",
   "execution_count": 72,
   "metadata": {},
   "outputs": [
    {
     "name": "stdout",
     "output_type": "stream",
     "text": [
      "Timesteps taken: 11487\n",
      "Penalties incurred: 11392\n"
     ]
    }
   ],
   "source": [
    "env.reset()\n",
    "epochs = 0\n",
    "penalties, reward = 0, 0\n",
    "\n",
    "frames = [] # for animation\n",
    "\n",
    "done = False\n",
    "\n",
    "while not done:\n",
    "    action = env.action_space.sample()\n",
    "    state, reward, done, info = env.step(action)\n",
    "\n",
    "    if reward[0] == -10 or reward[1] == -10:\n",
    "        penalties += 1\n",
    "    \n",
    "    # Put each rendered frame into dict for animation\n",
    "    frames.append({\n",
    "        'frame': env.render(mode='ansi'),\n",
    "        'state': state,\n",
    "        'action': action,\n",
    "        'reward': reward\n",
    "        }\n",
    "    )\n",
    "\n",
    "    epochs += 1\n",
    "    \n",
    "    \n",
    "print(\"Timesteps taken: {}\".format(epochs))\n",
    "print(\"Penalties incurred: {}\".format(penalties))"
   ]
  },
  {
   "cell_type": "markdown",
   "metadata": {},
   "source": [
    "Here, as we have seen, the episode takes a very long time to finish, and the taxis incur many penalties, meaning that they have tried many invalid moves. We can see this in action by replaying the frames of that episode."
   ]
  },
  {
   "cell_type": "code",
   "execution_count": null,
   "metadata": {},
   "outputs": [
    {
     "name": "stdout",
     "output_type": "stream",
     "text": [
      "+---------+\n",
      "|\u001b[35m\u001b[35mX\u001b[0m\u001b[0m: |F: :\u001b[43mX\u001b[0m|\n",
      "| : | : :\u001b[34;1m \u001b[0m|\n",
      "| : : : : |\n",
      "|\u001b[34;1m \u001b[0m| : | : |\n",
      "|\u001b[41mX\u001b[0m| :G|X: |\n",
      "+---------+\n",
      "  (Pickup ,Pickup)\n",
      "Taxi1: Fuel: 0, Location: (0,4)\n",
      "Taxi2: Fuel: 0, Location: (4,0)\n",
      "Passenger1: Location: (1, 4), Destination: (0, 0)\n",
      "Passenger2: Location: (3, 0), Destination: (0, 0)\n",
      "\n",
      "Timestep: 2673\n",
      "State: [[[4, 0], [0, 0]], [0, 0], [[1, 0], [2, 2]], [[0, 0], [0, 0]], [-1, -1]]\n",
      "Action: [4 4]\n",
      "Reward: [-10, -10]\n"
     ]
    }
   ],
   "source": [
    "from IPython.display import clear_output\n",
    "from time import sleep\n",
    "\n",
    "def print_frames(frames):\n",
    "    for i, frame in enumerate(frames):\n",
    "        clear_output(wait=True)\n",
    "        print(frame['frame'])\n",
    "        print(f\"Timestep: {i + 1}\")\n",
    "        print(f\"State: {frame['state']}\")\n",
    "        print(f\"Action: {frame['action']}\")\n",
    "        print(f\"Reward: {frame['reward']}\")\n",
    "        sleep(.1)\n",
    "        \n",
    "print_frames(frames)"
   ]
  }
 ],
 "metadata": {
  "kernelspec": {
   "display_name": "Python 3",
   "language": "python",
   "name": "python3"
  },
  "language_info": {
   "codemirror_mode": {
    "name": "ipython",
    "version": 3
   },
   "file_extension": ".py",
   "mimetype": "text/x-python",
   "name": "python",
   "nbconvert_exporter": "python",
   "pygments_lexer": "ipython3",
   "version": "3.7.6"
  }
 },
 "nbformat": 4,
 "nbformat_minor": 2
}
